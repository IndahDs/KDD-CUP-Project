{
  "nbformat": 4,
  "nbformat_minor": 0,
  "metadata": {
    "colab": {
      "name": "RandomForest KDD CUP.ipynb",
      "provenance": [],
      "collapsed_sections": []
    },
    "kernelspec": {
      "name": "python3",
      "display_name": "Python 3"
    },
    "language_info": {
      "name": "python"
    },
    "accelerator": "GPU",
    "gpuClass": "standard"
  },
  "cells": [
    {
      "cell_type": "markdown",
      "source": [
        "# Predict With Random Forest and XGBoost"
      ],
      "metadata": {
        "id": "sEfVshiYck3F"
      }
    },
    {
      "cell_type": "code",
      "execution_count": null,
      "metadata": {
        "id": "qpEMAdQvfzIU"
      },
      "outputs": [],
      "source": [
        "# Membuat folder .kaggle di dalam folder root\n",
        "!rm -rf ~/.kaggle && mkdir ~/.kaggle/\n",
        "\n",
        "# Menyalin berkas kaggle.json pada direktori aktif saat ini ke folder .kaggle\n",
        "!mv kaggle.json ~/.kaggle/kaggle.json\n",
        "!chmod 600 ~/.kaggle/kaggle.json"
      ]
    },
    {
      "cell_type": "code",
      "source": [
        "# Mengunduh dataset menggunakan Kaggle CLI\n",
        "!kaggle datasets download -d galaxyh/kdd-cup-1999-data"
      ],
      "metadata": {
        "colab": {
          "base_uri": "https://localhost:8080/"
        },
        "id": "VWFAzHfjf6Fa",
        "outputId": "a7b58f3b-5fd6-4ca4-f10c-e9929c550b35"
      },
      "execution_count": null,
      "outputs": [
        {
          "output_type": "stream",
          "name": "stdout",
          "text": [
            "kdd-cup-1999-data.zip: Skipping, found more recently modified local copy (use --force to force download)\n"
          ]
        }
      ]
    },
    {
      "cell_type": "code",
      "source": [
        "!unzip \"/content/kdd-cup-1999-data.zip\""
      ],
      "metadata": {
        "colab": {
          "base_uri": "https://localhost:8080/"
        },
        "id": "mObQKOtcf8A6",
        "outputId": "ef0903e7-7924-46f1-aca1-a180910fb3cf"
      },
      "execution_count": null,
      "outputs": [
        {
          "output_type": "stream",
          "name": "stdout",
          "text": [
            "Archive:  /content/kdd-cup-1999-data.zip\n",
            "replace corrected.gz? [y]es, [n]o, [A]ll, [N]one, [r]ename: A\n",
            "  inflating: corrected.gz            \n",
            "  inflating: corrected/corrected     \n",
            "  inflating: kddcup.data.corrected   \n",
            "  inflating: kddcup.data.gz          \n",
            "  inflating: kddcup.data/kddcup.data  \n",
            "  inflating: kddcup.data_10_percent.gz  \n",
            "  inflating: kddcup.data_10_percent/kddcup.data_10_percent  \n",
            "  inflating: kddcup.data_10_percent_corrected  \n",
            "  inflating: kddcup.names            \n",
            "  inflating: kddcup.newtestdata_10_percent_unlabeled.gz  \n",
            "  inflating: kddcup.newtestdata_10_percent_unlabeled/kddcup.newtestdata_10_percent_unlabeled  \n",
            "  inflating: kddcup.testdata.unlabeled.gz  \n",
            "  inflating: kddcup.testdata.unlabeled/kddcup.testdata.unlabeled  \n",
            "  inflating: kddcup.testdata.unlabeled_10_percent.gz  \n",
            "  inflating: kddcup.testdata.unlabeled_10_percent/kddcup.testdata.unlabeled_10_percent  \n",
            "  inflating: training_attack_types   \n",
            "  inflating: typo-correction.txt     \n"
          ]
        }
      ]
    },
    {
      "cell_type": "markdown",
      "source": [
        "# Instalasi Library Yang Dibutuhkan"
      ],
      "metadata": {
        "id": "FbWO63xIgATr"
      }
    },
    {
      "cell_type": "code",
      "source": [
        "!pip install sklearn\n",
        "!pip install xgboost\n",
        "!pip install lightgbm"
      ],
      "metadata": {
        "colab": {
          "base_uri": "https://localhost:8080/"
        },
        "id": "n6mXVbGegDRi",
        "outputId": "d5157004-3405-4ca9-a752-cfc1b0987806"
      },
      "execution_count": null,
      "outputs": [
        {
          "output_type": "stream",
          "name": "stdout",
          "text": [
            "Looking in indexes: https://pypi.org/simple, https://us-python.pkg.dev/colab-wheels/public/simple/\n",
            "Requirement already satisfied: sklearn in /usr/local/lib/python3.7/dist-packages (0.0)\n",
            "Requirement already satisfied: scikit-learn in /usr/local/lib/python3.7/dist-packages (from sklearn) (1.0.2)\n",
            "Requirement already satisfied: threadpoolctl>=2.0.0 in /usr/local/lib/python3.7/dist-packages (from scikit-learn->sklearn) (3.1.0)\n",
            "Requirement already satisfied: joblib>=0.11 in /usr/local/lib/python3.7/dist-packages (from scikit-learn->sklearn) (1.1.0)\n",
            "Requirement already satisfied: scipy>=1.1.0 in /usr/local/lib/python3.7/dist-packages (from scikit-learn->sklearn) (1.7.3)\n",
            "Requirement already satisfied: numpy>=1.14.6 in /usr/local/lib/python3.7/dist-packages (from scikit-learn->sklearn) (1.21.6)\n",
            "Looking in indexes: https://pypi.org/simple, https://us-python.pkg.dev/colab-wheels/public/simple/\n",
            "Requirement already satisfied: xgboost in /usr/local/lib/python3.7/dist-packages (0.90)\n",
            "Requirement already satisfied: scipy in /usr/local/lib/python3.7/dist-packages (from xgboost) (1.7.3)\n",
            "Requirement already satisfied: numpy in /usr/local/lib/python3.7/dist-packages (from xgboost) (1.21.6)\n",
            "Looking in indexes: https://pypi.org/simple, https://us-python.pkg.dev/colab-wheels/public/simple/\n",
            "Requirement already satisfied: lightgbm in /usr/local/lib/python3.7/dist-packages (2.2.3)\n",
            "Requirement already satisfied: scipy in /usr/local/lib/python3.7/dist-packages (from lightgbm) (1.7.3)\n",
            "Requirement already satisfied: numpy in /usr/local/lib/python3.7/dist-packages (from lightgbm) (1.21.6)\n",
            "Requirement already satisfied: scikit-learn in /usr/local/lib/python3.7/dist-packages (from lightgbm) (1.0.2)\n",
            "Requirement already satisfied: threadpoolctl>=2.0.0 in /usr/local/lib/python3.7/dist-packages (from scikit-learn->lightgbm) (3.1.0)\n",
            "Requirement already satisfied: joblib>=0.11 in /usr/local/lib/python3.7/dist-packages (from scikit-learn->lightgbm) (1.1.0)\n"
          ]
        }
      ]
    },
    {
      "cell_type": "markdown",
      "source": [
        "# Import Library Yang Dibutuhkan"
      ],
      "metadata": {
        "id": "6jDorGopgInm"
      }
    },
    {
      "cell_type": "code",
      "source": [
        "from mpl_toolkits.mplot3d import Axes3D\n",
        "from sklearn.preprocessing import StandardScaler\n",
        "from sklearn.feature_selection import SelectFromModel\n",
        "from sklearn.linear_model import LogisticRegression\n",
        "\n",
        "import matplotlib.pyplot as plt \n",
        "#from sklearn_evaluation import plot\n",
        "import numpy as np \n",
        "import os \n",
        "import pandas as pd \n",
        "import joblib\n",
        "from sklearn.model_selection import train_test_split,GridSearchCV\n",
        "\n",
        "\n",
        "from sklearn import preprocessing\n",
        "from matplotlib.pyplot import plot\n",
        "\n",
        "\n",
        "%matplotlib inline"
      ],
      "metadata": {
        "id": "_o98W2QjgMUi"
      },
      "execution_count": null,
      "outputs": []
    },
    {
      "cell_type": "code",
      "source": [
        "# Histogram distribusi\n",
        "def plotPerColumnDistribution(df, nGraphShown, nGraphPerRow):\n",
        "    nunique = df.nunique()\n",
        "    df = df[[col for col in df if nunique[col] > 1 and nunique[col] < 70]]\n",
        "    nRow, nCol = df.shape\n",
        "    columnNames = list(df)\n",
        "    nGraphRow = (nCol + nGraphPerRow - 1) / nGraphPerRow\n",
        "    plt.figure(num = None, figsize = (8 * nGraphPerRow, 10 * nGraphRow), dpi = 80, facecolor = 'w', edgecolor = 'k')\n",
        "    for i in range(min(nCol, nGraphShown)):\n",
        "        plt.subplot(nGraphRow, nGraphPerRow, i + 1)\n",
        "        columnDf = df.iloc[:, i]\n",
        "        if (not np.issubdtype(type(columnDf.iloc[0]), np.number)):\n",
        "            valueCounts = columnDf.value_counts()\n",
        "            valueCounts.plot.bar()\n",
        "        else:\n",
        "            columnDf.hist()\n",
        "        plt.ylabel('counts')\n",
        "        plt.xticks(rotation = 90)\n",
        "        plt.title(f'{columnNames[i]} (column {i})')\n",
        "    plt.tight_layout(pad = 1.0, w_pad = 1.0, h_pad = 1.0)\n",
        "    plt.show()"
      ],
      "metadata": {
        "id": "DpVLJ94FiRow"
      },
      "execution_count": null,
      "outputs": []
    },
    {
      "cell_type": "code",
      "source": [
        "# Confusion matriks\n",
        "\n",
        "def plotCorrelationMatrix(df, graphWidth, dataframeName):\n",
        "    filename = dataframeName#df.dataframeName\n",
        "    df = df.dropna('columns') #Bulatkan kolom dengan nilai NaN\n",
        "    df = df[[col for col in df if df[col].nunique() > 1]] #Pertahankan kolom dengan lebih dari satu nilai unik\n",
        "    if df.shape[1] < 2:\n",
        "        print(f'No correlation plots shown: The number of non-NaN or constant columns ({df.shape[1]}) is less than 2')\n",
        "        return\n",
        "    corr = df.corr()\n",
        "    plt.figure(num=None, figsize=(graphWidth, graphWidth), dpi=80, facecolor='w', edgecolor='k')\n",
        "    corrMat = plt.matshow(corr, fignum = 1)\n",
        "    plt.xticks(range(len(corr.columns)), corr.columns, rotation=90)\n",
        "    plt.yticks(range(len(corr.columns)), corr.columns)\n",
        "    plt.gca().xaxis.tick_bottom()\n",
        "    plt.colorbar(corrMat)\n",
        "    plt.title(f'Correlation Matrix for {filename}', fontsize=15)\n",
        "    plt.show()"
      ],
      "metadata": {
        "id": "2h5eji_ygdZj"
      },
      "execution_count": null,
      "outputs": []
    },
    {
      "cell_type": "markdown",
      "source": [
        "# deskripsi data"
      ],
      "metadata": {
        "id": "gGE4tmdqgv9g"
      }
    },
    {
      "cell_type": "code",
      "source": [
        "# 42 karakteristik pencatatan data\n",
        "\n",
        "cols = \"\"\"\n",
        "    duration,\n",
        "protocol_type,\n",
        "service,\n",
        "flag,\n",
        "src_bytes,\n",
        "dst_bytes,\n",
        "land,\n",
        "wrong_fragment,\n",
        "urgent,\n",
        "hot,\n",
        "num_failed_logins,\n",
        "logged_in,\n",
        "num_compromised,\n",
        "root_shell,\n",
        "su_attempted,\n",
        "num_root,\n",
        "num_file_creations,\n",
        "num_shells,\n",
        "num_access_files,\n",
        "num_outbound_cmds,\n",
        "is_host_login,\n",
        "is_guest_login,\n",
        "count,\n",
        "srv_count,\n",
        "serror_rate,\n",
        "srv_serror_rate,\n",
        "rerror_rate,\n",
        "srv_rerror_rate,\n",
        "same_srv_rate,\n",
        "diff_srv_rate,\n",
        "srv_diff_host_rate,\n",
        "dst_host_count,\n",
        "dst_host_srv_count,\n",
        "dst_host_same_srv_rate,\n",
        "dst_host_diff_srv_rate,\n",
        "dst_host_same_src_port_rate,\n",
        "dst_host_srv_diff_host_rate,\n",
        "dst_host_serror_rate,\n",
        "dst_host_srv_serror_rate,\n",
        "dst_host_rerror_rate,\n",
        "dst_host_srv_rerror_rate\"\"\"\n",
        "cols = [c.strip() for c in cols.split(\",\") if c.strip()]\n",
        "cols.append('target')"
      ],
      "metadata": {
        "id": "mB5rBeXtgrXY"
      },
      "execution_count": null,
      "outputs": []
    },
    {
      "cell_type": "code",
      "source": [
        "# Jenis serangan yang sesuai dengan tag\n",
        "\n",
        "attacks_type = {\n",
        "'normal': 'normal',\n",
        "'back': 'dos',\n",
        "'buffer_overflow': 'u2r',\n",
        "'ftp_write': 'r2l',\n",
        "'guess_passwd': 'r2l',\n",
        "'imap': 'r2l',\n",
        "'ipsweep': 'probe',\n",
        "'land': 'dos',\n",
        "'loadmodule': 'u2r',\n",
        "'multihop': 'r2l',\n",
        "'neptune': 'dos',\n",
        "'nmap': 'probe',\n",
        "'perl': 'u2r',\n",
        "'phf': 'r2l',\n",
        "'pod': 'dos',\n",
        "'portsweep': 'probe',\n",
        "'rootkit': 'u2r',\n",
        "'satan': 'probe',\n",
        "'smurf': 'dos',\n",
        "'spy': 'r2l',\n",
        "'teardrop': 'dos',\n",
        "'warezclient': 'r2l',\n",
        "'warezmaster': 'r2l',\n",
        "    }"
      ],
      "metadata": {
        "id": "wv1LPY8Eg7yI"
      },
      "execution_count": null,
      "outputs": []
    },
    {
      "cell_type": "code",
      "source": [
        "# membaca data\n",
        "df = pd.read_csv(\"/content/kddcup.data_10_percent/kddcup.data_10_percent\", names=cols) \n",
        "df['Attack'] = df.target.apply(lambda r: attacks_type[r[:-1]])\n",
        "print(\"The data shape is (lines, columns):\",df.shape)\n",
        "df.head(10)"
      ],
      "metadata": {
        "colab": {
          "base_uri": "https://localhost:8080/",
          "height": 474
        },
        "id": "3wSrr-bmhCP5",
        "outputId": "3343ecaa-96cb-4b64-b082-4048026a2aca"
      },
      "execution_count": null,
      "outputs": [
        {
          "output_type": "stream",
          "name": "stdout",
          "text": [
            "The data shape is (lines, columns): (494021, 43)\n"
          ]
        },
        {
          "output_type": "execute_result",
          "data": {
            "text/plain": [
              "   duration protocol_type service flag  src_bytes  dst_bytes  land  \\\n",
              "0         0           tcp    http   SF        181       5450     0   \n",
              "1         0           tcp    http   SF        239        486     0   \n",
              "2         0           tcp    http   SF        235       1337     0   \n",
              "3         0           tcp    http   SF        219       1337     0   \n",
              "4         0           tcp    http   SF        217       2032     0   \n",
              "5         0           tcp    http   SF        217       2032     0   \n",
              "6         0           tcp    http   SF        212       1940     0   \n",
              "7         0           tcp    http   SF        159       4087     0   \n",
              "8         0           tcp    http   SF        210        151     0   \n",
              "9         0           tcp    http   SF        212        786     0   \n",
              "\n",
              "   wrong_fragment  urgent  hot  ...  dst_host_same_srv_rate  \\\n",
              "0               0       0    0  ...                     1.0   \n",
              "1               0       0    0  ...                     1.0   \n",
              "2               0       0    0  ...                     1.0   \n",
              "3               0       0    0  ...                     1.0   \n",
              "4               0       0    0  ...                     1.0   \n",
              "5               0       0    0  ...                     1.0   \n",
              "6               0       0    0  ...                     1.0   \n",
              "7               0       0    0  ...                     1.0   \n",
              "8               0       0    0  ...                     1.0   \n",
              "9               0       0    1  ...                     1.0   \n",
              "\n",
              "   dst_host_diff_srv_rate  dst_host_same_src_port_rate  \\\n",
              "0                     0.0                         0.11   \n",
              "1                     0.0                         0.05   \n",
              "2                     0.0                         0.03   \n",
              "3                     0.0                         0.03   \n",
              "4                     0.0                         0.02   \n",
              "5                     0.0                         0.02   \n",
              "6                     0.0                         1.00   \n",
              "7                     0.0                         0.09   \n",
              "8                     0.0                         0.12   \n",
              "9                     0.0                         0.12   \n",
              "\n",
              "   dst_host_srv_diff_host_rate  dst_host_serror_rate  \\\n",
              "0                         0.00                   0.0   \n",
              "1                         0.00                   0.0   \n",
              "2                         0.00                   0.0   \n",
              "3                         0.00                   0.0   \n",
              "4                         0.00                   0.0   \n",
              "5                         0.00                   0.0   \n",
              "6                         0.04                   0.0   \n",
              "7                         0.04                   0.0   \n",
              "8                         0.04                   0.0   \n",
              "9                         0.05                   0.0   \n",
              "\n",
              "   dst_host_srv_serror_rate  dst_host_rerror_rate  dst_host_srv_rerror_rate  \\\n",
              "0                       0.0                   0.0                       0.0   \n",
              "1                       0.0                   0.0                       0.0   \n",
              "2                       0.0                   0.0                       0.0   \n",
              "3                       0.0                   0.0                       0.0   \n",
              "4                       0.0                   0.0                       0.0   \n",
              "5                       0.0                   0.0                       0.0   \n",
              "6                       0.0                   0.0                       0.0   \n",
              "7                       0.0                   0.0                       0.0   \n",
              "8                       0.0                   0.0                       0.0   \n",
              "9                       0.0                   0.0                       0.0   \n",
              "\n",
              "    target  Attack  \n",
              "0  normal.  normal  \n",
              "1  normal.  normal  \n",
              "2  normal.  normal  \n",
              "3  normal.  normal  \n",
              "4  normal.  normal  \n",
              "5  normal.  normal  \n",
              "6  normal.  normal  \n",
              "7  normal.  normal  \n",
              "8  normal.  normal  \n",
              "9  normal.  normal  \n",
              "\n",
              "[10 rows x 43 columns]"
            ],
            "text/html": [
              "\n",
              "  <div id=\"df-0541270e-cab8-40c6-823e-53cd55bebaf3\">\n",
              "    <div class=\"colab-df-container\">\n",
              "      <div>\n",
              "<style scoped>\n",
              "    .dataframe tbody tr th:only-of-type {\n",
              "        vertical-align: middle;\n",
              "    }\n",
              "\n",
              "    .dataframe tbody tr th {\n",
              "        vertical-align: top;\n",
              "    }\n",
              "\n",
              "    .dataframe thead th {\n",
              "        text-align: right;\n",
              "    }\n",
              "</style>\n",
              "<table border=\"1\" class=\"dataframe\">\n",
              "  <thead>\n",
              "    <tr style=\"text-align: right;\">\n",
              "      <th></th>\n",
              "      <th>duration</th>\n",
              "      <th>protocol_type</th>\n",
              "      <th>service</th>\n",
              "      <th>flag</th>\n",
              "      <th>src_bytes</th>\n",
              "      <th>dst_bytes</th>\n",
              "      <th>land</th>\n",
              "      <th>wrong_fragment</th>\n",
              "      <th>urgent</th>\n",
              "      <th>hot</th>\n",
              "      <th>...</th>\n",
              "      <th>dst_host_same_srv_rate</th>\n",
              "      <th>dst_host_diff_srv_rate</th>\n",
              "      <th>dst_host_same_src_port_rate</th>\n",
              "      <th>dst_host_srv_diff_host_rate</th>\n",
              "      <th>dst_host_serror_rate</th>\n",
              "      <th>dst_host_srv_serror_rate</th>\n",
              "      <th>dst_host_rerror_rate</th>\n",
              "      <th>dst_host_srv_rerror_rate</th>\n",
              "      <th>target</th>\n",
              "      <th>Attack</th>\n",
              "    </tr>\n",
              "  </thead>\n",
              "  <tbody>\n",
              "    <tr>\n",
              "      <th>0</th>\n",
              "      <td>0</td>\n",
              "      <td>tcp</td>\n",
              "      <td>http</td>\n",
              "      <td>SF</td>\n",
              "      <td>181</td>\n",
              "      <td>5450</td>\n",
              "      <td>0</td>\n",
              "      <td>0</td>\n",
              "      <td>0</td>\n",
              "      <td>0</td>\n",
              "      <td>...</td>\n",
              "      <td>1.0</td>\n",
              "      <td>0.0</td>\n",
              "      <td>0.11</td>\n",
              "      <td>0.00</td>\n",
              "      <td>0.0</td>\n",
              "      <td>0.0</td>\n",
              "      <td>0.0</td>\n",
              "      <td>0.0</td>\n",
              "      <td>normal.</td>\n",
              "      <td>normal</td>\n",
              "    </tr>\n",
              "    <tr>\n",
              "      <th>1</th>\n",
              "      <td>0</td>\n",
              "      <td>tcp</td>\n",
              "      <td>http</td>\n",
              "      <td>SF</td>\n",
              "      <td>239</td>\n",
              "      <td>486</td>\n",
              "      <td>0</td>\n",
              "      <td>0</td>\n",
              "      <td>0</td>\n",
              "      <td>0</td>\n",
              "      <td>...</td>\n",
              "      <td>1.0</td>\n",
              "      <td>0.0</td>\n",
              "      <td>0.05</td>\n",
              "      <td>0.00</td>\n",
              "      <td>0.0</td>\n",
              "      <td>0.0</td>\n",
              "      <td>0.0</td>\n",
              "      <td>0.0</td>\n",
              "      <td>normal.</td>\n",
              "      <td>normal</td>\n",
              "    </tr>\n",
              "    <tr>\n",
              "      <th>2</th>\n",
              "      <td>0</td>\n",
              "      <td>tcp</td>\n",
              "      <td>http</td>\n",
              "      <td>SF</td>\n",
              "      <td>235</td>\n",
              "      <td>1337</td>\n",
              "      <td>0</td>\n",
              "      <td>0</td>\n",
              "      <td>0</td>\n",
              "      <td>0</td>\n",
              "      <td>...</td>\n",
              "      <td>1.0</td>\n",
              "      <td>0.0</td>\n",
              "      <td>0.03</td>\n",
              "      <td>0.00</td>\n",
              "      <td>0.0</td>\n",
              "      <td>0.0</td>\n",
              "      <td>0.0</td>\n",
              "      <td>0.0</td>\n",
              "      <td>normal.</td>\n",
              "      <td>normal</td>\n",
              "    </tr>\n",
              "    <tr>\n",
              "      <th>3</th>\n",
              "      <td>0</td>\n",
              "      <td>tcp</td>\n",
              "      <td>http</td>\n",
              "      <td>SF</td>\n",
              "      <td>219</td>\n",
              "      <td>1337</td>\n",
              "      <td>0</td>\n",
              "      <td>0</td>\n",
              "      <td>0</td>\n",
              "      <td>0</td>\n",
              "      <td>...</td>\n",
              "      <td>1.0</td>\n",
              "      <td>0.0</td>\n",
              "      <td>0.03</td>\n",
              "      <td>0.00</td>\n",
              "      <td>0.0</td>\n",
              "      <td>0.0</td>\n",
              "      <td>0.0</td>\n",
              "      <td>0.0</td>\n",
              "      <td>normal.</td>\n",
              "      <td>normal</td>\n",
              "    </tr>\n",
              "    <tr>\n",
              "      <th>4</th>\n",
              "      <td>0</td>\n",
              "      <td>tcp</td>\n",
              "      <td>http</td>\n",
              "      <td>SF</td>\n",
              "      <td>217</td>\n",
              "      <td>2032</td>\n",
              "      <td>0</td>\n",
              "      <td>0</td>\n",
              "      <td>0</td>\n",
              "      <td>0</td>\n",
              "      <td>...</td>\n",
              "      <td>1.0</td>\n",
              "      <td>0.0</td>\n",
              "      <td>0.02</td>\n",
              "      <td>0.00</td>\n",
              "      <td>0.0</td>\n",
              "      <td>0.0</td>\n",
              "      <td>0.0</td>\n",
              "      <td>0.0</td>\n",
              "      <td>normal.</td>\n",
              "      <td>normal</td>\n",
              "    </tr>\n",
              "    <tr>\n",
              "      <th>5</th>\n",
              "      <td>0</td>\n",
              "      <td>tcp</td>\n",
              "      <td>http</td>\n",
              "      <td>SF</td>\n",
              "      <td>217</td>\n",
              "      <td>2032</td>\n",
              "      <td>0</td>\n",
              "      <td>0</td>\n",
              "      <td>0</td>\n",
              "      <td>0</td>\n",
              "      <td>...</td>\n",
              "      <td>1.0</td>\n",
              "      <td>0.0</td>\n",
              "      <td>0.02</td>\n",
              "      <td>0.00</td>\n",
              "      <td>0.0</td>\n",
              "      <td>0.0</td>\n",
              "      <td>0.0</td>\n",
              "      <td>0.0</td>\n",
              "      <td>normal.</td>\n",
              "      <td>normal</td>\n",
              "    </tr>\n",
              "    <tr>\n",
              "      <th>6</th>\n",
              "      <td>0</td>\n",
              "      <td>tcp</td>\n",
              "      <td>http</td>\n",
              "      <td>SF</td>\n",
              "      <td>212</td>\n",
              "      <td>1940</td>\n",
              "      <td>0</td>\n",
              "      <td>0</td>\n",
              "      <td>0</td>\n",
              "      <td>0</td>\n",
              "      <td>...</td>\n",
              "      <td>1.0</td>\n",
              "      <td>0.0</td>\n",
              "      <td>1.00</td>\n",
              "      <td>0.04</td>\n",
              "      <td>0.0</td>\n",
              "      <td>0.0</td>\n",
              "      <td>0.0</td>\n",
              "      <td>0.0</td>\n",
              "      <td>normal.</td>\n",
              "      <td>normal</td>\n",
              "    </tr>\n",
              "    <tr>\n",
              "      <th>7</th>\n",
              "      <td>0</td>\n",
              "      <td>tcp</td>\n",
              "      <td>http</td>\n",
              "      <td>SF</td>\n",
              "      <td>159</td>\n",
              "      <td>4087</td>\n",
              "      <td>0</td>\n",
              "      <td>0</td>\n",
              "      <td>0</td>\n",
              "      <td>0</td>\n",
              "      <td>...</td>\n",
              "      <td>1.0</td>\n",
              "      <td>0.0</td>\n",
              "      <td>0.09</td>\n",
              "      <td>0.04</td>\n",
              "      <td>0.0</td>\n",
              "      <td>0.0</td>\n",
              "      <td>0.0</td>\n",
              "      <td>0.0</td>\n",
              "      <td>normal.</td>\n",
              "      <td>normal</td>\n",
              "    </tr>\n",
              "    <tr>\n",
              "      <th>8</th>\n",
              "      <td>0</td>\n",
              "      <td>tcp</td>\n",
              "      <td>http</td>\n",
              "      <td>SF</td>\n",
              "      <td>210</td>\n",
              "      <td>151</td>\n",
              "      <td>0</td>\n",
              "      <td>0</td>\n",
              "      <td>0</td>\n",
              "      <td>0</td>\n",
              "      <td>...</td>\n",
              "      <td>1.0</td>\n",
              "      <td>0.0</td>\n",
              "      <td>0.12</td>\n",
              "      <td>0.04</td>\n",
              "      <td>0.0</td>\n",
              "      <td>0.0</td>\n",
              "      <td>0.0</td>\n",
              "      <td>0.0</td>\n",
              "      <td>normal.</td>\n",
              "      <td>normal</td>\n",
              "    </tr>\n",
              "    <tr>\n",
              "      <th>9</th>\n",
              "      <td>0</td>\n",
              "      <td>tcp</td>\n",
              "      <td>http</td>\n",
              "      <td>SF</td>\n",
              "      <td>212</td>\n",
              "      <td>786</td>\n",
              "      <td>0</td>\n",
              "      <td>0</td>\n",
              "      <td>0</td>\n",
              "      <td>1</td>\n",
              "      <td>...</td>\n",
              "      <td>1.0</td>\n",
              "      <td>0.0</td>\n",
              "      <td>0.12</td>\n",
              "      <td>0.05</td>\n",
              "      <td>0.0</td>\n",
              "      <td>0.0</td>\n",
              "      <td>0.0</td>\n",
              "      <td>0.0</td>\n",
              "      <td>normal.</td>\n",
              "      <td>normal</td>\n",
              "    </tr>\n",
              "  </tbody>\n",
              "</table>\n",
              "<p>10 rows × 43 columns</p>\n",
              "</div>\n",
              "      <button class=\"colab-df-convert\" onclick=\"convertToInteractive('df-0541270e-cab8-40c6-823e-53cd55bebaf3')\"\n",
              "              title=\"Convert this dataframe to an interactive table.\"\n",
              "              style=\"display:none;\">\n",
              "        \n",
              "  <svg xmlns=\"http://www.w3.org/2000/svg\" height=\"24px\"viewBox=\"0 0 24 24\"\n",
              "       width=\"24px\">\n",
              "    <path d=\"M0 0h24v24H0V0z\" fill=\"none\"/>\n",
              "    <path d=\"M18.56 5.44l.94 2.06.94-2.06 2.06-.94-2.06-.94-.94-2.06-.94 2.06-2.06.94zm-11 1L8.5 8.5l.94-2.06 2.06-.94-2.06-.94L8.5 2.5l-.94 2.06-2.06.94zm10 10l.94 2.06.94-2.06 2.06-.94-2.06-.94-.94-2.06-.94 2.06-2.06.94z\"/><path d=\"M17.41 7.96l-1.37-1.37c-.4-.4-.92-.59-1.43-.59-.52 0-1.04.2-1.43.59L10.3 9.45l-7.72 7.72c-.78.78-.78 2.05 0 2.83L4 21.41c.39.39.9.59 1.41.59.51 0 1.02-.2 1.41-.59l7.78-7.78 2.81-2.81c.8-.78.8-2.07 0-2.86zM5.41 20L4 18.59l7.72-7.72 1.47 1.35L5.41 20z\"/>\n",
              "  </svg>\n",
              "      </button>\n",
              "      \n",
              "  <style>\n",
              "    .colab-df-container {\n",
              "      display:flex;\n",
              "      flex-wrap:wrap;\n",
              "      gap: 12px;\n",
              "    }\n",
              "\n",
              "    .colab-df-convert {\n",
              "      background-color: #E8F0FE;\n",
              "      border: none;\n",
              "      border-radius: 50%;\n",
              "      cursor: pointer;\n",
              "      display: none;\n",
              "      fill: #1967D2;\n",
              "      height: 32px;\n",
              "      padding: 0 0 0 0;\n",
              "      width: 32px;\n",
              "    }\n",
              "\n",
              "    .colab-df-convert:hover {\n",
              "      background-color: #E2EBFA;\n",
              "      box-shadow: 0px 1px 2px rgba(60, 64, 67, 0.3), 0px 1px 3px 1px rgba(60, 64, 67, 0.15);\n",
              "      fill: #174EA6;\n",
              "    }\n",
              "\n",
              "    [theme=dark] .colab-df-convert {\n",
              "      background-color: #3B4455;\n",
              "      fill: #D2E3FC;\n",
              "    }\n",
              "\n",
              "    [theme=dark] .colab-df-convert:hover {\n",
              "      background-color: #434B5C;\n",
              "      box-shadow: 0px 1px 3px 1px rgba(0, 0, 0, 0.15);\n",
              "      filter: drop-shadow(0px 1px 2px rgba(0, 0, 0, 0.3));\n",
              "      fill: #FFFFFF;\n",
              "    }\n",
              "  </style>\n",
              "\n",
              "      <script>\n",
              "        const buttonEl =\n",
              "          document.querySelector('#df-0541270e-cab8-40c6-823e-53cd55bebaf3 button.colab-df-convert');\n",
              "        buttonEl.style.display =\n",
              "          google.colab.kernel.accessAllowed ? 'block' : 'none';\n",
              "\n",
              "        async function convertToInteractive(key) {\n",
              "          const element = document.querySelector('#df-0541270e-cab8-40c6-823e-53cd55bebaf3');\n",
              "          const dataTable =\n",
              "            await google.colab.kernel.invokeFunction('convertToInteractive',\n",
              "                                                     [key], {});\n",
              "          if (!dataTable) return;\n",
              "\n",
              "          const docLinkHtml = 'Like what you see? Visit the ' +\n",
              "            '<a target=\"_blank\" href=https://colab.research.google.com/notebooks/data_table.ipynb>data table notebook</a>'\n",
              "            + ' to learn more about interactive tables.';\n",
              "          element.innerHTML = '';\n",
              "          dataTable['output_type'] = 'display_data';\n",
              "          await google.colab.output.renderOutput(dataTable, element);\n",
              "          const docLink = document.createElement('div');\n",
              "          docLink.innerHTML = docLinkHtml;\n",
              "          element.appendChild(docLink);\n",
              "        }\n",
              "      </script>\n",
              "    </div>\n",
              "  </div>\n",
              "  "
            ]
          },
          "metadata": {},
          "execution_count": 10
        }
      ]
    },
    {
      "cell_type": "code",
      "source": [
        "# ganti nama\n",
        "\n",
        "hajar_to_cup = {\n",
        "    'is_hot_login' : 'is_host_login',\n",
        "'urg' : 'urgent',\n",
        "'protocol' : 'protocol_type',\n",
        "'count_sec' : 'count',\n",
        "'srv_count_sec' : 'srv_count',\n",
        "'serror_rate_sec' : 'serror_rate',\n",
        "'srv_serror_rate_sec' : 'srv_serror_rate',\n",
        "'rerror_rate_sec' : 'rerror_rate',\n",
        "'srv_error_rate_sec' : 'srv_rerror_rate',\n",
        "'same_srv_rate_sec' : 'same_srv_rate',\n",
        "'diff_srv_rate_sec' : 'diff_srv_rate',\n",
        "'srv_diff_host_rate_sec' : 'srv_diff_host_rate',\n",
        "'count_100' : 'dst_host_count',\n",
        "'srv_count_100' : 'dst_host_srv_count',\n",
        "'same_srv_rate_100' : 'dst_host_same_srv_rate',\n",
        "'diff_srv_rate_100' : 'dst_host_diff_srv_rate',\n",
        "'same_src_port_rate_100' : 'dst_host_same_src_port_rate',\n",
        "'srv_diff_host_rate_100' : 'dst_host_srv_diff_host_rate',\n",
        "'serror_rate_100' : 'dst_host_serror_rate',\n",
        "'srv_serror_rate_100' : 'dst_host_srv_serror_rate',\n",
        "'rerror_rate_100' : 'dst_host_rerror_rate',\n",
        "'srv_rerror_rate_100' : 'dst_host_srv_rerror_rate',\n",
        "}"
      ],
      "metadata": {
        "id": "ThDREuKLhCNG"
      },
      "execution_count": null,
      "outputs": []
    },
    {
      "cell_type": "code",
      "source": [
        "#Statistik jumlah catatan dari berbagai jenis serangan\n",
        "df.Attack.value_counts()"
      ],
      "metadata": {
        "colab": {
          "base_uri": "https://localhost:8080/"
        },
        "id": "9ET9TtM4hCKH",
        "outputId": "81229e4a-352f-4150-e4fa-6ccce0f2c32d"
      },
      "execution_count": null,
      "outputs": [
        {
          "output_type": "execute_result",
          "data": {
            "text/plain": [
              "dos       391458\n",
              "normal     97278\n",
              "probe       4107\n",
              "r2l         1126\n",
              "u2r           52\n",
              "Name: Attack, dtype: int64"
            ]
          },
          "metadata": {},
          "execution_count": 12
        }
      ]
    },
    {
      "cell_type": "code",
      "source": [
        "#tag, jenis serangan\n",
        "df.target.unique(), df.Attack.unique()"
      ],
      "metadata": {
        "colab": {
          "base_uri": "https://localhost:8080/"
        },
        "id": "7dFjx9aWhuuL",
        "outputId": "8c968b9b-c332-4fc6-f1bd-72e377e636f0"
      },
      "execution_count": null,
      "outputs": [
        {
          "output_type": "execute_result",
          "data": {
            "text/plain": [
              "(array(['normal.', 'buffer_overflow.', 'loadmodule.', 'perl.', 'neptune.',\n",
              "        'smurf.', 'guess_passwd.', 'pod.', 'teardrop.', 'portsweep.',\n",
              "        'ipsweep.', 'land.', 'ftp_write.', 'back.', 'imap.', 'satan.',\n",
              "        'phf.', 'nmap.', 'multihop.', 'warezmaster.', 'warezclient.',\n",
              "        'spy.', 'rootkit.'], dtype=object),\n",
              " array(['normal', 'u2r', 'dos', 'r2l', 'probe'], dtype=object))"
            ]
          },
          "metadata": {},
          "execution_count": 13
        }
      ]
    },
    {
      "cell_type": "markdown",
      "source": [
        "# Distribusi Data: Distribusi Fitur Kategoris"
      ],
      "metadata": {
        "id": "7J7aFXodh4Na"
      }
    },
    {
      "cell_type": "code",
      "source": [
        "plotPerColumnDistribution(df[[\n",
        "    'protocol_type',\n",
        "    'service',\n",
        "    'flag',\n",
        "    'logged_in',\n",
        "    'srv_serror_rate',\n",
        "    'srv_diff_host_rate',\n",
        "]], nGraphShown=30, nGraphPerRow=2)"
      ],
      "metadata": {
        "colab": {
          "base_uri": "https://localhost:8080/",
          "height": 1000
        },
        "id": "8VJ7odL0hurf",
        "outputId": "5a6c5bd9-e821-4258-9cb0-400a6ebe1d30"
      },
      "execution_count": null,
      "outputs": [
        {
          "output_type": "display_data",
          "data": {
            "text/plain": [
              "<Figure size 1280x2800 with 6 Axes>"
            ],
            "image/png": "[encoded data removed]"
          },
          "metadata": {}
        }
      ]
    },
    {
      "cell_type": "markdown",
      "source": [
        "# Asosiasi Data: Asosiasi Fitur Numerik"
      ],
      "metadata": {
        "id": "F1u-o3mFibMa"
      }
    },
    {
      "cell_type": "code",
      "source": [
        "plotCorrelationMatrix(df, graphWidth=20, dataframeName=\"Packets\")"
      ],
      "metadata": {
        "colab": {
          "base_uri": "https://localhost:8080/",
          "height": 1000
        },
        "id": "D1MU8aiohupE",
        "outputId": "4aa72aa3-d35b-4363-fe61-c3abaf9130f9"
      },
      "execution_count": null,
      "outputs": [
        {
          "output_type": "stream",
          "name": "stderr",
          "text": [
            "/usr/local/lib/python3.7/dist-packages/ipykernel_launcher.py:5: FutureWarning: In a future version of pandas all arguments of DataFrame.dropna will be keyword-only\n",
            "  \"\"\"\n"
          ]
        },
        {
          "output_type": "display_data",
          "data": {
            "text/plain": [
              "<Figure size 1600x1600 with 2 Axes>"
            ],
            "image/png": "[encoded data removed]"
          },
          "metadata": {}
        }
      ]
    },
    {
      "cell_type": "markdown",
      "source": [
        "# pra-pemrosesan data"
      ],
      "metadata": {
        "id": "I5wmonZ2ihlB"
      }
    },
    {
      "cell_type": "code",
      "source": [
        "#Periksa nilai yang hilang\n",
        "for c in df.columns:\n",
        "    print(\"%30s : %d\"%(c, sum(pd.isnull(df[c]))))"
      ],
      "metadata": {
        "colab": {
          "base_uri": "https://localhost:8080/"
        },
        "id": "1fUtHCMdhumW",
        "outputId": "8aa03cee-e9f4-4fe3-9f2e-e7b169b6008c"
      },
      "execution_count": null,
      "outputs": [
        {
          "output_type": "stream",
          "name": "stdout",
          "text": [
            "                      duration : 0\n",
            "                 protocol_type : 0\n",
            "                       service : 0\n",
            "                          flag : 0\n",
            "                     src_bytes : 0\n",
            "                     dst_bytes : 0\n",
            "                          land : 0\n",
            "                wrong_fragment : 0\n",
            "                        urgent : 0\n",
            "                           hot : 0\n",
            "             num_failed_logins : 0\n",
            "                     logged_in : 0\n",
            "               num_compromised : 0\n",
            "                    root_shell : 0\n",
            "                  su_attempted : 0\n",
            "                      num_root : 0\n",
            "            num_file_creations : 0\n",
            "                    num_shells : 0\n",
            "              num_access_files : 0\n",
            "             num_outbound_cmds : 0\n",
            "                 is_host_login : 0\n",
            "                is_guest_login : 0\n",
            "                         count : 0\n",
            "                     srv_count : 0\n",
            "                   serror_rate : 0\n",
            "               srv_serror_rate : 0\n",
            "                   rerror_rate : 0\n",
            "               srv_rerror_rate : 0\n",
            "                 same_srv_rate : 0\n",
            "                 diff_srv_rate : 0\n",
            "            srv_diff_host_rate : 0\n",
            "                dst_host_count : 0\n",
            "            dst_host_srv_count : 0\n",
            "        dst_host_same_srv_rate : 0\n",
            "        dst_host_diff_srv_rate : 0\n",
            "   dst_host_same_src_port_rate : 0\n",
            "   dst_host_srv_diff_host_rate : 0\n",
            "          dst_host_serror_rate : 0\n",
            "      dst_host_srv_serror_rate : 0\n",
            "          dst_host_rerror_rate : 0\n",
            "      dst_host_srv_rerror_rate : 0\n",
            "                        target : 0\n",
            "                        Attack : 0\n"
          ]
        }
      ]
    },
    {
      "cell_type": "markdown",
      "source": [
        "# Penandaan/Pengkodean Data\n",
        "Pilih fitur (berdasarkan varians, korelasi)\n",
        "\n",
        "perbedaan:\n",
        "\n",
        "Variansnya adalah 0, yang menunjukkan bahwa fitur tersebut sama untuk semua record, dan fitur yang paling ideal harus memiliki varians yang lebih besar, yang menunjukkan bahwa tipe record yang berbeda menunjukkan perbedaan dalam fitur ini. Jadi hapus fitur dengan 0 varians."
      ],
      "metadata": {
        "id": "fZjiUJERivFB"
      }
    },
    {
      "cell_type": "code",
      "source": [
        "df_std = df.std() #varians semua fitur\n",
        "df_std = df_std.sort_values(ascending=True) #sort keluaran\n",
        "df_std"
      ],
      "metadata": {
        "colab": {
          "base_uri": "https://localhost:8080/"
        },
        "id": "3_UffzihhujQ",
        "outputId": "8ff42131-0dc0-4bf5-a097-68572db78901"
      },
      "execution_count": null,
      "outputs": [
        {
          "output_type": "stream",
          "name": "stderr",
          "text": [
            "/usr/local/lib/python3.7/dist-packages/ipykernel_launcher.py:1: FutureWarning: Dropping of nuisance columns in DataFrame reductions (with 'numeric_only=None') is deprecated; in a future version this will raise TypeError.  Select only valid columns before calling the reduction.\n",
            "  \"\"\"Entry point for launching an IPython kernel.\n"
          ]
        },
        {
          "output_type": "execute_result",
          "data": {
            "text/plain": [
              "is_host_login                       0.000000\n",
              "num_outbound_cmds                   0.000000\n",
              "urgent                              0.005510\n",
              "land                                0.006673\n",
              "su_attempted                        0.007793\n",
              "root_shell                          0.010551\n",
              "num_shells                          0.011020\n",
              "num_failed_logins                   0.015520\n",
              "num_access_files                    0.036482\n",
              "is_guest_login                      0.037211\n",
              "dst_host_srv_diff_host_rate         0.042133\n",
              "diff_srv_rate                       0.082205\n",
              "num_file_creations                  0.096416\n",
              "dst_host_diff_srv_rate              0.109259\n",
              "wrong_fragment                      0.134805\n",
              "srv_diff_host_rate                  0.142397\n",
              "dst_host_srv_rerror_rate            0.230140\n",
              "dst_host_rerror_rate                0.230590\n",
              "rerror_rate                         0.231623\n",
              "srv_rerror_rate                     0.232147\n",
              "logged_in                           0.355345\n",
              "dst_host_serror_rate                0.380593\n",
              "serror_rate                         0.380717\n",
              "dst_host_srv_serror_rate            0.380919\n",
              "srv_serror_rate                     0.381017\n",
              "same_srv_rate                       0.388189\n",
              "dst_host_same_srv_rate              0.410781\n",
              "dst_host_same_src_port_rate         0.481309\n",
              "hot                                 0.782103\n",
              "num_compromised                     1.798326\n",
              "num_root                            2.012718\n",
              "dst_host_count                     64.745380\n",
              "dst_host_srv_count                106.040437\n",
              "count                             213.147412\n",
              "srv_count                         246.322817\n",
              "duration                          707.746472\n",
              "dst_bytes                       33040.001252\n",
              "src_bytes                      988218.101050\n",
              "dtype: float64"
            ]
          },
          "metadata": {},
          "execution_count": 17
        }
      ]
    },
    {
      "cell_type": "code",
      "source": [
        "plt.figure(figsize=(15,10))\n",
        "plt.plot(list(df_std.index) ,list(df_std.values), 'go')\n",
        "\n",
        "plt.show()"
      ],
      "metadata": {
        "colab": {
          "base_uri": "https://localhost:8080/",
          "height": 603
        },
        "id": "HwXfWTe2hug4",
        "outputId": "c077c1dd-3d03-43b2-ab55-d5e27aa212ce"
      },
      "execution_count": null,
      "outputs": [
        {
          "output_type": "display_data",
          "data": {
            "text/plain": [
              "<Figure size 1080x720 with 1 Axes>"
            ],
            "image/png": "[encoded data removed]"
          },
          "metadata": {
            "needs_background": "light"
          }
        }
      ]
    },
    {
      "cell_type": "markdown",
      "source": [
        "Korelasi:\n",
        "\n",
        "Beberapa fitur yang berkorelasi sempurna dapat dihilangkan. Karena (srv_serror_rate, serror_rate) terkait dengan (dst_host_srv_count, dst_host_count), maka dalam kasus ini, srv_rate dan dst_host_count dapat dihilangkan."
      ],
      "metadata": {
        "id": "0AvtL7xIi85-"
      }
    },
    {
      "cell_type": "code",
      "source": [
        "#Amati matriks korelasi melalui plotScatterMatrix terlebih dahulu\n",
        "def standardize_columns(df, cols_map=hajar_to_cup):\n",
        "    #Hapus kolom 'layanan'; ganti nama jika kolom TCPPDUMP ada\n",
        "    if 'service' in df.columns:\n",
        "        df = df.drop(['service'], axis = 1)\n",
        "    df.rename(columns = cols_map)\n",
        "    return df\n",
        "\n",
        "df = standardize_columns(df, cols_map=hajar_to_cup)"
      ],
      "metadata": {
        "id": "vgtm3HwShudv"
      },
      "execution_count": null,
      "outputs": []
    },
    {
      "cell_type": "markdown",
      "source": [
        "# Bagilah data menjadi set pelatihan dan pengujian"
      ],
      "metadata": {
        "id": "7ETvKk4JjIrm"
      }
    },
    {
      "cell_type": "code",
      "source": [
        "df = df.drop(['target',], axis=1)\n",
        "print(df.shape)\n",
        "#41 item sebelumnya digunakan sebagai input X, dan kolom Attack digunakan sebagai label deteksi y\n",
        "y = df.Attack\n",
        "X = df.drop(['Attack',], axis=1)\n",
        "#Hasilkan set pelatihan dan set tes secara acak\n",
        "X_train, X_test, y_train, y_test = train_test_split(X, y, test_size=0.33, random_state=42)\n",
        "print(X_train.shape, X_test.shape)\n",
        "print(y_train.shape, y_test.shape)"
      ],
      "metadata": {
        "colab": {
          "base_uri": "https://localhost:8080/"
        },
        "id": "JkPUH0TZhua3",
        "outputId": "f1a645ea-197d-4adf-cf70-be07a65e9718"
      },
      "execution_count": null,
      "outputs": [
        {
          "output_type": "stream",
          "name": "stdout",
          "text": [
            "(494021, 41)\n",
            "(330994, 40) (163027, 40)\n",
            "(330994,) (163027,)\n"
          ]
        }
      ]
    },
    {
      "cell_type": "code",
      "source": [
        "le_X_cols = {}\n",
        "le_y = preprocessing.LabelEncoder()\n",
        "\n",
        "for c in X_train.columns:\n",
        "    if str(X_train[c].dtype) == 'object': \n",
        "        le_X = preprocessing.LabelEncoder()\n",
        "        X_train[c] = le_X.fit_transform(X_train[c])\n",
        "        X_test[c] = le_X.transform(X_test[c])\n",
        "        le_X_cols[c] = le_X\n",
        "\n",
        "y_train = le_y.fit_transform(y_train.values)\n",
        "y_test = le_y.transform(y_test.values)\n",
        "\n",
        "#simpan label\n",
        "joblib.dump(le_X_cols, 'le_X_cols.pkl') \n",
        "joblib.dump(le_y, 'le_y.pkl') \n"
      ],
      "metadata": {
        "colab": {
          "base_uri": "https://localhost:8080/"
        },
        "id": "_tq1Ebg_huYB",
        "outputId": "215aa3f5-95e5-450c-e149-4c31f672c1d3"
      },
      "execution_count": null,
      "outputs": [
        {
          "output_type": "execute_result",
          "data": {
            "text/plain": [
              "['le_y.pkl']"
            ]
          },
          "metadata": {},
          "execution_count": 21
        }
      ]
    },
    {
      "cell_type": "code",
      "source": [
        "class_names, class_index = le_y.classes_, np.unique(y_train)\n",
        "class_names, class_index"
      ],
      "metadata": {
        "colab": {
          "base_uri": "https://localhost:8080/"
        },
        "id": "wKiXZmljjV-g",
        "outputId": "4e2f6fc5-8fcd-4bea-d045-9e45dcd2498f"
      },
      "execution_count": null,
      "outputs": [
        {
          "output_type": "execute_result",
          "data": {
            "text/plain": [
              "(array(['dos', 'normal', 'probe', 'r2l', 'u2r'], dtype=object),\n",
              " array([0, 1, 2, 3, 4]))"
            ]
          },
          "metadata": {},
          "execution_count": 22
        }
      ]
    },
    {
      "cell_type": "code",
      "source": [
        "#penskalaan fitur\n",
        "scaler = StandardScaler(copy=True, with_mean=True, with_std=True)\n",
        "X_train[['dst_bytes','src_bytes']] = scaler.fit_transform(X_train[['dst_bytes','src_bytes']])\n",
        "X_test[['dst_bytes','src_bytes']] = scaler.transform(X_test[['dst_bytes','src_bytes']])\n",
        "#menyimpan\n",
        "joblib.dump(scaler, 'scaler_1.pkl')"
      ],
      "metadata": {
        "colab": {
          "base_uri": "https://localhost:8080/"
        },
        "id": "x_wwb1YgjV7R",
        "outputId": "cdaf01b7-c8c6-4edc-f882-3e48d7c20dff"
      },
      "execution_count": null,
      "outputs": [
        {
          "output_type": "execute_result",
          "data": {
            "text/plain": [
              "['scaler_1.pkl']"
            ]
          },
          "metadata": {},
          "execution_count": 23
        }
      ]
    },
    {
      "cell_type": "markdown",
      "source": [
        "# Dua Model Partisi (Random Forest dan XGBoost)\n",
        "\n",
        "1- Model Klasifikasi Hutan Acak"
      ],
      "metadata": {
        "id": "qU5eud8Ojhxh"
      }
    },
    {
      "cell_type": "code",
      "source": [
        "from sklearn.ensemble import RandomForestClassifier\n",
        "#Model dasar tanpa penyetelan parameter dan pemilihan fitur\n",
        "classifier = RandomForestClassifier(n_estimators = 20, criterion = 'entropy', random_state = 42)\n",
        "classifier.fit(X_train, y_train)\n",
        "print(\"akurasi pelatihan:\", classifier.score(X_train, y_train))\n",
        "print(\"akurasi tes:\",classifier.score(X_test,y_test))\n",
        "diff_base = abs(classifier.score(X_train, y_train) - classifier.score(X_test,y_test))\n",
        "print(\"Over/underfitting dari model：\", diff_base)"
      ],
      "metadata": {
        "colab": {
          "base_uri": "https://localhost:8080/"
        },
        "id": "ytttfy4FjV4v",
        "outputId": "b14c047a-29a4-4b9f-bd87-e6811e87dba7"
      },
      "execution_count": null,
      "outputs": [
        {
          "output_type": "stream",
          "name": "stdout",
          "text": [
            "akurasi pelatihan: 0.9999939575943975\n",
            "akurasi tes: 0.9997301060560521\n",
            "Over/underfitting dari model： 0.0002638515383454054\n"
          ]
        }
      ]
    },
    {
      "cell_type": "code",
      "source": [
        "#Prediksi data dalam set tes\n",
        "y_pred = classifier.predict(X_test)\n",
        "\n",
        "reversefactor = dict(zip(class_index,class_names))\n",
        "y_test_rev = np.vectorize(reversefactor.get)(y_test)\n",
        "y_pred_rev = np.vectorize(reversefactor.get)(y_pred)\n",
        "#menghasilkan confusion matriks\n",
        "print(pd.crosstab(y_test_rev, y_pred_rev, rownames=['Actual packets attacks'], colnames=['Predicted packets attcks']))\n"
      ],
      "metadata": {
        "colab": {
          "base_uri": "https://localhost:8080/"
        },
        "id": "hKNSyvF1jV1y",
        "outputId": "d135cd64-c1f7-47f6-f9f4-658c4796c5c0"
      },
      "execution_count": null,
      "outputs": [
        {
          "output_type": "stream",
          "name": "stdout",
          "text": [
            "Predicted packets attcks     dos  normal  probe  r2l  u2r\n",
            "Actual packets attacks                                   \n",
            "dos                       129106       0      0    0    0\n",
            "normal                         0   32160      4    3    0\n",
            "probe                          0      15   1333    0    0\n",
            "r2l                            0      14      0  373    0\n",
            "u2r                            0       8      0    0   11\n"
          ]
        }
      ]
    },
    {
      "cell_type": "markdown",
      "source": [
        "## 1-1 Pilihan fitur"
      ],
      "metadata": {
        "id": "EjInUyx-kGhw"
      }
    },
    {
      "cell_type": "code",
      "source": [
        "clf = RandomForestClassifier(n_estimators=30)\n",
        "clf = clf.fit(X_train, y_train)\n",
        "fti = clf.feature_importances_\n",
        "model = SelectFromModel(clf, prefit=True, threshold= 0.005)\n",
        "X_train_new = model.transform(X_train)\n",
        "X_test_new = model.transform(X_test)\n",
        "selcted_features = X_train.columns[model.get_support()]\n",
        "print(X_train_new.shape)"
      ],
      "metadata": {
        "colab": {
          "base_uri": "https://localhost:8080/"
        },
        "id": "kXRTRDJLjVy5",
        "outputId": "3f7a773e-582b-44af-e7fd-66fe5f108814"
      },
      "execution_count": null,
      "outputs": [
        {
          "output_type": "stream",
          "name": "stdout",
          "text": [
            "(330994, 22)\n"
          ]
        },
        {
          "output_type": "stream",
          "name": "stderr",
          "text": [
            "/usr/local/lib/python3.7/dist-packages/sklearn/base.py:444: UserWarning: X has feature names, but SelectFromModel was fitted without feature names\n",
            "  f\"X has feature names, but {self.__class__.__name__} was fitted without\"\n",
            "/usr/local/lib/python3.7/dist-packages/sklearn/base.py:444: UserWarning: X has feature names, but SelectFromModel was fitted without feature names\n",
            "  f\"X has feature names, but {self.__class__.__name__} was fitted without\"\n"
          ]
        }
      ]
    },
    {
      "cell_type": "code",
      "source": [
        "#fitur pilihan\n",
        "selcted_features"
      ],
      "metadata": {
        "colab": {
          "base_uri": "https://localhost:8080/"
        },
        "id": "YWlTsDXkhCHh",
        "outputId": "0fe28b06-0fe2-4266-e7dc-9de4f14d3e29"
      },
      "execution_count": null,
      "outputs": [
        {
          "output_type": "execute_result",
          "data": {
            "text/plain": [
              "Index(['protocol_type', 'flag', 'src_bytes', 'dst_bytes', 'logged_in',\n",
              "       'num_compromised', 'count', 'srv_count', 'rerror_rate', 'same_srv_rate',\n",
              "       'diff_srv_rate', 'srv_diff_host_rate', 'dst_host_count',\n",
              "       'dst_host_srv_count', 'dst_host_same_srv_rate',\n",
              "       'dst_host_diff_srv_rate', 'dst_host_same_src_port_rate',\n",
              "       'dst_host_srv_diff_host_rate', 'dst_host_serror_rate',\n",
              "       'dst_host_srv_serror_rate', 'dst_host_rerror_rate',\n",
              "       'dst_host_srv_rerror_rate'],\n",
              "      dtype='object')"
            ]
          },
          "metadata": {},
          "execution_count": 27
        }
      ]
    },
    {
      "cell_type": "markdown",
      "source": [
        "## 1-2 Penyesuaian parameter"
      ],
      "metadata": {
        "id": "vL7_wRsKkT04"
      }
    },
    {
      "cell_type": "code",
      "source": [
        "parameters = {\n",
        "    'n_estimators'      : [20,40,128,130],\n",
        "    'max_depth'         : [None,14, 15, 17],\n",
        "    'criterion' :['gini','entropy'],\n",
        "    'random_state'      : [42],\n",
        "    \n",
        "}\n",
        "clf = GridSearchCV(RandomForestClassifier(), parameters, cv=2, n_jobs=-1, verbose=5)\n",
        "clf.fit(X_train_new, y_train)"
      ],
      "metadata": {
        "colab": {
          "base_uri": "https://localhost:8080/"
        },
        "id": "-oorRb_VhCEJ",
        "outputId": "9913e68b-dcd2-45ab-9f15-82cd10e2732f"
      },
      "execution_count": null,
      "outputs": [
        {
          "output_type": "stream",
          "name": "stdout",
          "text": [
            "Fitting 2 folds for each of 32 candidates, totalling 64 fits\n"
          ]
        },
        {
          "output_type": "execute_result",
          "data": {
            "text/plain": [
              "GridSearchCV(cv=2, estimator=RandomForestClassifier(), n_jobs=-1,\n",
              "             param_grid={'criterion': ['gini', 'entropy'],\n",
              "                         'max_depth': [None, 14, 15, 17],\n",
              "                         'n_estimators': [20, 40, 128, 130],\n",
              "                         'random_state': [42]},\n",
              "             verbose=5)"
            ]
          },
          "metadata": {},
          "execution_count": 28
        }
      ]
    },
    {
      "cell_type": "code",
      "source": [
        "print(\"clf.best_estimator_:\",clf.best_estimator_)\n",
        "print(\"clf.best_params_\",clf.best_params_)"
      ],
      "metadata": {
        "colab": {
          "base_uri": "https://localhost:8080/"
        },
        "id": "ot7ahTduhCBE",
        "outputId": "cbdcc427-daac-4eef-d64d-bc9ab097512e"
      },
      "execution_count": null,
      "outputs": [
        {
          "output_type": "stream",
          "name": "stdout",
          "text": [
            "clf.best_estimator_: RandomForestClassifier(criterion='entropy', max_depth=17, n_estimators=40,\n",
            "                       random_state=42)\n",
            "clf.best_params_ {'criterion': 'entropy', 'max_depth': 17, 'n_estimators': 40, 'random_state': 42}\n"
          ]
        }
      ]
    },
    {
      "cell_type": "code",
      "source": [
        "print(\"Akurasi pelatihan CV：\",clf.best_score_)\n",
        "print(\"Akurasi tes CV：\",clf.score(X_test_new,y_test))\n",
        "diff_fst = abs(clf.best_score_ - clf.score(X_test_new,y_test))\n",
        "print(\"akurasi buruk：\", diff_fst)\n",
        "print(\"Peningkatan kinerja model?\", diff_base > diff_fst)"
      ],
      "metadata": {
        "colab": {
          "base_uri": "https://localhost:8080/"
        },
        "id": "HnyHVt7OhB-Y",
        "outputId": "a3ca704b-6301-4ec6-f7c7-6f4cc1f5be88"
      },
      "execution_count": null,
      "outputs": [
        {
          "output_type": "stream",
          "name": "stdout",
          "text": [
            "Akurasi pelatihan CV： 0.9996314132582463\n",
            "Akurasi tes CV： 0.9997485079158667\n",
            "akurasi buruk： 0.00011709465762033133\n",
            "Peningkatan kinerja model? True\n"
          ]
        }
      ]
    },
    {
      "cell_type": "code",
      "source": [
        "# confusion matriks\n",
        "#prediksi kumpulan data pengujian\n",
        "y_pred = clf.predict(X_test_new)\n",
        "\n",
        "reversefactor = dict(zip(class_index,class_names))\n",
        "y_test_rev = np.vectorize(reversefactor.get)(y_test)\n",
        "y_pred_rev = np.vectorize(reversefactor.get)(y_pred)\n",
        "#menghasilkan confusion matriks\n",
        "print(pd.crosstab(y_test_rev, y_pred_rev, rownames=['Actual packets attacks'], colnames=['Predicted packets attcks']))"
      ],
      "metadata": {
        "colab": {
          "base_uri": "https://localhost:8080/"
        },
        "id": "BxqPh_y2kKi5",
        "outputId": "0e33a171-6575-4591-8221-2eb0db448fb5"
      },
      "execution_count": null,
      "outputs": [
        {
          "output_type": "stream",
          "name": "stdout",
          "text": [
            "Predicted packets attcks     dos  normal  probe  r2l  u2r\n",
            "Actual packets attacks                                   \n",
            "dos                       129106       0      0    0    0\n",
            "normal                         2   32160      2    3    0\n",
            "probe                          1       9   1338    0    0\n",
            "r2l                            0      15      0  372    0\n",
            "u2r                            0       8      0    1   10\n"
          ]
        }
      ]
    },
    {
      "cell_type": "markdown",
      "source": [
        "# simpan model"
      ],
      "metadata": {
        "id": "YT5g2_WCk4Lb"
      }
    },
    {
      "cell_type": "code",
      "source": [
        "joblib.dump(clf, 'random_forest_classifier.pkl') "
      ],
      "metadata": {
        "colab": {
          "base_uri": "https://localhost:8080/"
        },
        "id": "97fSpVqjk8ng",
        "outputId": "50e10862-2094-4bc4-b031-984e481ac28a"
      },
      "execution_count": null,
      "outputs": [
        {
          "output_type": "execute_result",
          "data": {
            "text/plain": [
              "['random_forest_classifier.pkl']"
            ]
          },
          "metadata": {},
          "execution_count": 32
        }
      ]
    },
    {
      "cell_type": "markdown",
      "source": [
        "# 2- Model XGBoost\n",
        "\n",
        "2-1 Model Dasar"
      ],
      "metadata": {
        "id": "m2bwbLGHlBS_"
      }
    },
    {
      "cell_type": "code",
      "source": [
        "from sklearn.multiclass import OneVsRestClassifier\n",
        "from xgboost import XGBClassifier\n",
        "from sklearn.preprocessing import MultiLabelBinarizer"
      ],
      "metadata": {
        "id": "fDZv20UDkKeN"
      },
      "execution_count": null,
      "outputs": []
    },
    {
      "cell_type": "code",
      "source": [
        "clf = OneVsRestClassifier(XGBClassifier(n_jobs=-1, max_depth=4, n_estimators=70, random_state=42,verbosity=1))\n",
        "\n",
        "#Encode variabel dalam array [[x, y, z]] sebagai multilabel melalui MultiLabelBinarizer\n",
        "lb = preprocessing.LabelBinarizer(neg_label=0, pos_label=1, sparse_output=False)\n",
        "lb.fit(y_train)\n",
        "y_train_xgb = lb.transform(y_train)\n",
        "y_test_xgb = lb.transform(y_test)\n",
        "#model train\n",
        "clf.fit(X_train[selcted_features], y_train_xgb)"
      ],
      "metadata": {
        "colab": {
          "base_uri": "https://localhost:8080/"
        },
        "id": "LS6tW-R_kKa6",
        "outputId": "f4e097ae-5f5f-4b84-e28a-96e34d53d872"
      },
      "execution_count": null,
      "outputs": [
        {
          "output_type": "execute_result",
          "data": {
            "text/plain": [
              "OneVsRestClassifier(estimator=XGBClassifier(max_depth=4, n_estimators=70,\n",
              "                                            n_jobs=-1, random_state=42))"
            ]
          },
          "metadata": {},
          "execution_count": 34
        }
      ]
    },
    {
      "cell_type": "code",
      "source": [
        "#predict\n",
        "y_pred_xgb = clf.predict(X_test[selcted_features])\n",
        "\n",
        "print(\"akurasi pelatihan：\", clf.score(X_train[selcted_features], y_train_xgb))\n",
        "print(\"akurasi tes：\",clf.score(X_test[selcted_features],y_test_xgb))# New data, not included in Training data\n",
        "diff_xgb = abs(clf.score(X_train[selcted_features], y_train_xgb) - clf.score(X_test[selcted_features],y_test_xgb))\n",
        "print(\"akurasi buruk：\", diff_xgb)"
      ],
      "metadata": {
        "colab": {
          "base_uri": "https://localhost:8080/"
        },
        "id": "G6c54nQJlOBc",
        "outputId": "01085d37-e483-4d88-a975-c0325a847ee7"
      },
      "execution_count": null,
      "outputs": [
        {
          "output_type": "stream",
          "name": "stdout",
          "text": [
            "akurasi pelatihan： 0.9989335154111555\n",
            "akurasi tes： 0.9987916112055059\n",
            "akurasi buruk： 0.00014190420564963446\n"
          ]
        }
      ]
    },
    {
      "cell_type": "code",
      "source": [
        "# confusion matriks\n",
        "y_pred_xgb = np.argmax(y_pred_xgb, axis=1)\n",
        "\n",
        "reversefactor = dict(zip(class_index,class_names))\n",
        "y_test_rev = np.vectorize(reversefactor.get)(y_test)\n",
        "y_pred_rev = np.vectorize(reversefactor.get)(y_pred_xgb)\n",
        "# menghasilkan confusion matriks\n",
        "print(pd.crosstab(y_test_rev, y_pred_rev, rownames=['Actual packets attacks'], colnames=['Predicted packets attcks']))"
      ],
      "metadata": {
        "colab": {
          "base_uri": "https://localhost:8080/"
        },
        "id": "prlcuEWQlN-u",
        "outputId": "8ae19d62-b225-41e6-d448-c1183cdb2ccf"
      },
      "execution_count": null,
      "outputs": [
        {
          "output_type": "stream",
          "name": "stdout",
          "text": [
            "Predicted packets attcks     dos  normal  probe  r2l  u2r\n",
            "Actual packets attacks                                   \n",
            "dos                       129104       2      0    0    0\n",
            "normal                        23   32140      0    4    0\n",
            "probe                         16      11   1321    0    0\n",
            "r2l                            7      75      0  305    0\n",
            "u2r                            2      16      0    0    1\n"
          ]
        }
      ]
    },
    {
      "cell_type": "markdown",
      "source": [
        "## 2-2 Penyesuaian parameter"
      ],
      "metadata": {
        "id": "Xh6xOTiRmKWs"
      }
    },
    {
      "cell_type": "code",
      "source": [
        "import xgboost as xgb\n",
        "print(X_train.shape)\n",
        "\n",
        "xgb_model = OneVsRestClassifier(XGBClassifier(n_jobs=-1, max_depth=4, n_estimators=70, random_state=42,verbosity=1))\n",
        "\n",
        "parameters = {'estimator__nthread':[4,], # sesuaikan utas\n",
        "              'estimator__objective':['binary:logistic',],\n",
        "              'estimator__learning_rate': [0.1,0.08], #nilai 'eta'\n",
        "              'estimator__max_depth': [4,6],\n",
        "              'estimator__min_child_weight': [1,],\n",
        "              'estimator__silent': [1,],\n",
        "              'estimator__subsample': [1,],\n",
        "              'estimator__colsample_bytree': [1,],\n",
        "              'estimator__n_estimators': [70,100], #jumlah pohon keputusan\n",
        "              'estimator__random_state':[42],\n",
        "              }\n",
        "\n",
        "\n",
        "clf = GridSearchCV(xgb_model, parameters, \n",
        "                   cv=2, n_jobs=-1, verbose=5, refit=True)\n",
        "#Latih modelnya\n",
        "clf.fit(X_train[selcted_features], y_train_xgb)"
      ],
      "metadata": {
        "colab": {
          "base_uri": "https://localhost:8080/"
        },
        "id": "XXjo2UtllN79",
        "outputId": "ee7102c8-de95-443a-f67d-614f409a26c8"
      },
      "execution_count": null,
      "outputs": [
        {
          "output_type": "stream",
          "name": "stdout",
          "text": [
            "(330994, 40)\n",
            "Fitting 2 folds for each of 8 candidates, totalling 16 fits\n"
          ]
        },
        {
          "output_type": "stream",
          "name": "stderr",
          "text": [
            "/usr/local/lib/python3.7/dist-packages/joblib/externals/loky/process_executor.py:705: UserWarning: A worker stopped while some jobs were given to the executor. This can be caused by a too short worker timeout or by a memory leak.\n",
            "  \"timeout or by a memory leak.\", UserWarning\n"
          ]
        },
        {
          "output_type": "execute_result",
          "data": {
            "text/plain": [
              "GridSearchCV(cv=2,\n",
              "             estimator=OneVsRestClassifier(estimator=XGBClassifier(max_depth=4,\n",
              "                                                                   n_estimators=70,\n",
              "                                                                   n_jobs=-1,\n",
              "                                                                   random_state=42)),\n",
              "             n_jobs=-1,\n",
              "             param_grid={'estimator__colsample_bytree': [1],\n",
              "                         'estimator__learning_rate': [0.1, 0.08],\n",
              "                         'estimator__max_depth': [4, 6],\n",
              "                         'estimator__min_child_weight': [1],\n",
              "                         'estimator__n_estimators': [70, 100],\n",
              "                         'estimator__nthread': [4],\n",
              "                         'estimator__objective': ['binary:logistic'],\n",
              "                         'estimator__random_state': [42],\n",
              "                         'estimator__silent': [1],\n",
              "                         'estimator__subsample': [1]},\n",
              "             verbose=5)"
            ]
          },
          "metadata": {},
          "execution_count": 37
        }
      ]
    },
    {
      "cell_type": "code",
      "source": [
        "print(\"Akurasi pelatihan CV：\",clf.best_score_)\n",
        "print(\"parameter：\", clf.best_params_)\n",
        "print(\"Akurasi tes CV：\",clf.score(X_test[selcted_features],y_test_xgb))\n",
        "diff_fst = abs(clf.best_score_ - clf.score(X_test[selcted_features],y_test_xgb))\n",
        "print(\"akurasi buruk：\", diff_fst)"
      ],
      "metadata": {
        "id": "NQLyIR5slN5P",
        "colab": {
          "base_uri": "https://localhost:8080/"
        },
        "outputId": "d1e19c28-09d6-46f5-f687-e740504f62c4"
      },
      "execution_count": null,
      "outputs": [
        {
          "output_type": "stream",
          "name": "stdout",
          "text": [
            "Akurasi pelatihan CV： 0.9994380562789658\n",
            "parameter： {'estimator__colsample_bytree': 1, 'estimator__learning_rate': 0.1, 'estimator__max_depth': 6, 'estimator__min_child_weight': 1, 'estimator__n_estimators': 100, 'estimator__nthread': 4, 'estimator__objective': 'binary:logistic', 'estimator__random_state': 42, 'estimator__silent': 1, 'estimator__subsample': 1}\n",
            "Akurasi tes CV： 0.9995583553644488\n",
            "akurasi buruk： 0.00012029908548305546\n"
          ]
        }
      ]
    },
    {
      "cell_type": "code",
      "source": [
        "#Confusion matriks untuk model XGB terbaik\n",
        "y_pred_xgb = clf.predict(X_test[selcted_features])\n",
        "y_pred_xgb = np.argmax(y_pred_xgb, axis=1)\n",
        "reversefactor = dict(zip(class_index,class_names))\n",
        "y_test_rev = np.vectorize(reversefactor.get)(y_test)\n",
        "y_pred_rev = np.vectorize(reversefactor.get)(y_pred_xgb)\n",
        "#hasil confusion matriks\n",
        "print(pd.crosstab(y_test_rev, y_pred_rev, rownames=['Actual packets attacks'], colnames=['Predicted packets attcks']))\n"
      ],
      "metadata": {
        "id": "HLH9kyUvkKYW",
        "colab": {
          "base_uri": "https://localhost:8080/"
        },
        "outputId": "1442729e-86a4-49c2-ee7f-18be0208d73f"
      },
      "execution_count": null,
      "outputs": [
        {
          "output_type": "stream",
          "name": "stdout",
          "text": [
            "Predicted packets attcks     dos  normal  probe  r2l  u2r\n",
            "Actual packets attacks                                   \n",
            "dos                       129105       1      0    0    0\n",
            "normal                        12   32149      4    2    0\n",
            "probe                          2       9   1337    0    0\n",
            "r2l                            6      19      0  362    0\n",
            "u2r                            5       7      0    0    7\n"
          ]
        }
      ]
    },
    {
      "cell_type": "markdown",
      "source": [
        "# simpan model"
      ],
      "metadata": {
        "id": "PCcZblcQnmQV"
      }
    },
    {
      "cell_type": "code",
      "source": [
        "joblib.dump(clf, 'xgboost_classifier.pkl') "
      ],
      "metadata": {
        "id": "559v3IzvkKVn",
        "colab": {
          "base_uri": "https://localhost:8080/"
        },
        "outputId": "7caac6ea-88ce-46d9-d496-e557ce027639"
      },
      "execution_count": null,
      "outputs": [
        {
          "output_type": "execute_result",
          "data": {
            "text/plain": [
              "['xgboost_classifier.pkl']"
            ]
          },
          "metadata": {},
          "execution_count": 40
        }
      ]
    },
    {
      "cell_type": "markdown",
      "source": [
        "# Merakit model\n",
        "Bangun model dari dua model yang diterapkan di atas"
      ],
      "metadata": {
        "id": "2_l8gdyGns1q"
      }
    },
    {
      "cell_type": "code",
      "source": [
        "#Penggantian nama kolom yang sesuai\n",
        "needed_cols_dump = []\n",
        "for l in selcted_features:\n",
        "    if l in hajar_to_cup.values():\n",
        "        for k, v in hajar_to_cup.items():\n",
        "            if v == l:\n",
        "                needed_cols_dump.append(k)\n",
        "    else:\n",
        "        needed_cols_dump.append(l)\n",
        "print(len(needed_cols_dump), len(selcted_features))\n",
        "print(needed_cols_dump)"
      ],
      "metadata": {
        "id": "_4fjrN10kKSr",
        "colab": {
          "base_uri": "https://localhost:8080/"
        },
        "outputId": "1a9ad504-97cf-4f32-bd36-73c4528d004f"
      },
      "execution_count": null,
      "outputs": [
        {
          "output_type": "stream",
          "name": "stdout",
          "text": [
            "22 22\n",
            "['protocol', 'flag', 'src_bytes', 'dst_bytes', 'logged_in', 'num_compromised', 'count_sec', 'srv_count_sec', 'rerror_rate_sec', 'same_srv_rate_sec', 'diff_srv_rate_sec', 'srv_diff_host_rate_sec', 'count_100', 'srv_count_100', 'same_srv_rate_100', 'diff_srv_rate_100', 'same_src_port_rate_100', 'srv_diff_host_rate_100', 'serror_rate_100', 'srv_serror_rate_100', 'rerror_rate_100', 'srv_rerror_rate_100']\n"
          ]
        }
      ]
    },
    {
      "cell_type": "code",
      "source": [
        "def do_what_we_want(X, \n",
        "                    scaler_1, \n",
        "                    le_X_cols, \n",
        "                    selcted_features, \n",
        "                    map_cols,\n",
        "                    rdf_clf,\n",
        "                    xgb_clf,\n",
        "                    PathX=False):\n",
        "    if PathX:\n",
        "        X = pd.read_csv(PathX, names=cols, nrows=30000)\n",
        "    X = standardize_columns(X, cols_map=map_cols) #ganti nama kolom\n",
        "    X[['dst_bytes','src_bytes']] = scaler_1.fit_transform(X[['dst_bytes','src_bytes']])\n",
        "    X = X[selcted_features]\n",
        "    for c in X.columns:\n",
        "        if str(X[c].dtype) == 'object': \n",
        "            le_X = le_X_cols[c]\n",
        "            X[c] = le_X.transform(X[c])\n",
        "            \n",
        "    res = {\n",
        "        'rd_prd_prb': rdf_clf.predict_proba(X),\n",
        "        'rd_prd': rdf_clf.predict(X),\n",
        "        'xgb_prd_prb': xgb_clf.predict_proba(X),\n",
        "        'xgb_prd': xgb_clf.predict(X),\n",
        "        \n",
        "    }\n",
        "    \n",
        "    return res"
      ],
      "metadata": {
        "id": "GgSlrPpjn0sp"
      },
      "execution_count": null,
      "outputs": []
    },
    {
      "cell_type": "code",
      "source": [
        "scaler_1 = joblib.load('/content/scaler_1.pkl') #data berskala\n",
        "le_X_cols = joblib.load('/content/le_X_cols.pkl') #Label set pelatihan\n",
        "le_y = joblib.load('/content/le_y.pkl') #Label set pengujian\n",
        "xgb_clf = joblib.load('/content/xgboost_classifier.pkl') #XGBoost model\n",
        "rdf_clf = joblib.load('/content/random_forest_classifier.pkl') #model hutan acak"
      ],
      "metadata": {
        "id": "8Pw2cG5wn0pp"
      },
      "execution_count": null,
      "outputs": []
    },
    {
      "cell_type": "code",
      "source": [
        "# membaca data\n",
        "X = pd.read_csv(\"/content/kddcup.data_10_percent/kddcup.data_10_percent\", names=cols, nrows=100000)\n",
        "Y = X.target.apply(lambda r: attacks_type[r[:-1]])\n",
        "\n",
        "res = do_what_we_want(X, \n",
        "                    scaler_1, \n",
        "                    le_X_cols, \n",
        "                    selcted_features, \n",
        "                    hajar_to_cup,\n",
        "                    rdf_clf,\n",
        "                    xgb_clf,\n",
        "                    PathX=False)\n",
        "res.keys()"
      ],
      "metadata": {
        "id": "YZvNbcXUkKQI",
        "colab": {
          "base_uri": "https://localhost:8080/"
        },
        "outputId": "50012016-6077-43a7-eb71-8a367a8927bb"
      },
      "execution_count": null,
      "outputs": [
        {
          "output_type": "stream",
          "name": "stderr",
          "text": [
            "/usr/local/lib/python3.7/dist-packages/sklearn/base.py:444: UserWarning: X has feature names, but RandomForestClassifier was fitted without feature names\n",
            "  f\"X has feature names, but {self.__class__.__name__} was fitted without\"\n",
            "/usr/local/lib/python3.7/dist-packages/sklearn/base.py:444: UserWarning: X has feature names, but RandomForestClassifier was fitted without feature names\n",
            "  f\"X has feature names, but {self.__class__.__name__} was fitted without\"\n"
          ]
        },
        {
          "output_type": "execute_result",
          "data": {
            "text/plain": [
              "dict_keys(['rd_prd_prb', 'rd_prd', 'xgb_prd_prb', 'xgb_prd'])"
            ]
          },
          "metadata": {},
          "execution_count": 45
        }
      ]
    },
    {
      "cell_type": "markdown",
      "source": [
        "#Agregat menggunakan Regresi Logistik untuk menumpuk prediksi"
      ],
      "metadata": {
        "id": "wZdccN5roh0b"
      }
    },
    {
      "cell_type": "code",
      "source": [
        "atks = ['dos', 'normal', 'probe', 'r2l', 'u2r']\n",
        "rd_prd_df = pd.DataFrame(data=res['rd_prd_prb'])\n",
        "rd_prd_df= rd_prd_df.rename(columns = {l:'rd_'+atks[l] for l in range(len(atks))})\n",
        "xg_prd_df = pd.DataFrame(data=res['xgb_prd_prb'])\n",
        "xg_prd_df= xg_prd_df.rename(columns = {l:'xg_'+atks[l] for l in range(len(atks))})\n",
        "\n",
        "df = pd.concat([rd_prd_df, xg_prd_df], axis=1)\n",
        "df.head()"
      ],
      "metadata": {
        "id": "rDzga86gkKNU",
        "colab": {
          "base_uri": "https://localhost:8080/",
          "height": 206
        },
        "outputId": "9159b614-8c79-4345-b603-bb489841e04b"
      },
      "execution_count": null,
      "outputs": [
        {
          "output_type": "execute_result",
          "data": {
            "text/plain": [
              "   rd_dos  rd_normal  rd_probe  rd_r2l  rd_u2r    xg_dos  xg_normal  xg_probe  \\\n",
              "0   0.100      0.725     0.000   0.075   0.100  0.000054   0.722444  0.000057   \n",
              "1   0.100      0.750     0.025   0.050   0.075  0.001795   0.770401  0.000071   \n",
              "2   0.075      0.750     0.025   0.050   0.100  0.000730   0.806240  0.000071   \n",
              "3   0.075      0.725     0.025   0.075   0.100  0.000730   0.836683  0.000065   \n",
              "4   0.050      0.775     0.000   0.050   0.125  0.000044   0.950191  0.000048   \n",
              "\n",
              "     xg_r2l    xg_u2r  \n",
              "0  0.000045  0.005603  \n",
              "1  0.000025  0.000025  \n",
              "2  0.000025  0.000025  \n",
              "3  0.000025  0.000025  \n",
              "4  0.000025  0.000025  "
            ],
            "text/html": [
              "\n",
              "  <div id=\"df-7327a747-e3b1-45df-b5aa-73db395ef004\">\n",
              "    <div class=\"colab-df-container\">\n",
              "      <div>\n",
              "<style scoped>\n",
              "    .dataframe tbody tr th:only-of-type {\n",
              "        vertical-align: middle;\n",
              "    }\n",
              "\n",
              "    .dataframe tbody tr th {\n",
              "        vertical-align: top;\n",
              "    }\n",
              "\n",
              "    .dataframe thead th {\n",
              "        text-align: right;\n",
              "    }\n",
              "</style>\n",
              "<table border=\"1\" class=\"dataframe\">\n",
              "  <thead>\n",
              "    <tr style=\"text-align: right;\">\n",
              "      <th></th>\n",
              "      <th>rd_dos</th>\n",
              "      <th>rd_normal</th>\n",
              "      <th>rd_probe</th>\n",
              "      <th>rd_r2l</th>\n",
              "      <th>rd_u2r</th>\n",
              "      <th>xg_dos</th>\n",
              "      <th>xg_normal</th>\n",
              "      <th>xg_probe</th>\n",
              "      <th>xg_r2l</th>\n",
              "      <th>xg_u2r</th>\n",
              "    </tr>\n",
              "  </thead>\n",
              "  <tbody>\n",
              "    <tr>\n",
              "      <th>0</th>\n",
              "      <td>0.100</td>\n",
              "      <td>0.725</td>\n",
              "      <td>0.000</td>\n",
              "      <td>0.075</td>\n",
              "      <td>0.100</td>\n",
              "      <td>0.000054</td>\n",
              "      <td>0.722444</td>\n",
              "      <td>0.000057</td>\n",
              "      <td>0.000045</td>\n",
              "      <td>0.005603</td>\n",
              "    </tr>\n",
              "    <tr>\n",
              "      <th>1</th>\n",
              "      <td>0.100</td>\n",
              "      <td>0.750</td>\n",
              "      <td>0.025</td>\n",
              "      <td>0.050</td>\n",
              "      <td>0.075</td>\n",
              "      <td>0.001795</td>\n",
              "      <td>0.770401</td>\n",
              "      <td>0.000071</td>\n",
              "      <td>0.000025</td>\n",
              "      <td>0.000025</td>\n",
              "    </tr>\n",
              "    <tr>\n",
              "      <th>2</th>\n",
              "      <td>0.075</td>\n",
              "      <td>0.750</td>\n",
              "      <td>0.025</td>\n",
              "      <td>0.050</td>\n",
              "      <td>0.100</td>\n",
              "      <td>0.000730</td>\n",
              "      <td>0.806240</td>\n",
              "      <td>0.000071</td>\n",
              "      <td>0.000025</td>\n",
              "      <td>0.000025</td>\n",
              "    </tr>\n",
              "    <tr>\n",
              "      <th>3</th>\n",
              "      <td>0.075</td>\n",
              "      <td>0.725</td>\n",
              "      <td>0.025</td>\n",
              "      <td>0.075</td>\n",
              "      <td>0.100</td>\n",
              "      <td>0.000730</td>\n",
              "      <td>0.836683</td>\n",
              "      <td>0.000065</td>\n",
              "      <td>0.000025</td>\n",
              "      <td>0.000025</td>\n",
              "    </tr>\n",
              "    <tr>\n",
              "      <th>4</th>\n",
              "      <td>0.050</td>\n",
              "      <td>0.775</td>\n",
              "      <td>0.000</td>\n",
              "      <td>0.050</td>\n",
              "      <td>0.125</td>\n",
              "      <td>0.000044</td>\n",
              "      <td>0.950191</td>\n",
              "      <td>0.000048</td>\n",
              "      <td>0.000025</td>\n",
              "      <td>0.000025</td>\n",
              "    </tr>\n",
              "  </tbody>\n",
              "</table>\n",
              "</div>\n",
              "      <button class=\"colab-df-convert\" onclick=\"convertToInteractive('df-7327a747-e3b1-45df-b5aa-73db395ef004')\"\n",
              "              title=\"Convert this dataframe to an interactive table.\"\n",
              "              style=\"display:none;\">\n",
              "        \n",
              "  <svg xmlns=\"http://www.w3.org/2000/svg\" height=\"24px\"viewBox=\"0 0 24 24\"\n",
              "       width=\"24px\">\n",
              "    <path d=\"M0 0h24v24H0V0z\" fill=\"none\"/>\n",
              "    <path d=\"M18.56 5.44l.94 2.06.94-2.06 2.06-.94-2.06-.94-.94-2.06-.94 2.06-2.06.94zm-11 1L8.5 8.5l.94-2.06 2.06-.94-2.06-.94L8.5 2.5l-.94 2.06-2.06.94zm10 10l.94 2.06.94-2.06 2.06-.94-2.06-.94-.94-2.06-.94 2.06-2.06.94z\"/><path d=\"M17.41 7.96l-1.37-1.37c-.4-.4-.92-.59-1.43-.59-.52 0-1.04.2-1.43.59L10.3 9.45l-7.72 7.72c-.78.78-.78 2.05 0 2.83L4 21.41c.39.39.9.59 1.41.59.51 0 1.02-.2 1.41-.59l7.78-7.78 2.81-2.81c.8-.78.8-2.07 0-2.86zM5.41 20L4 18.59l7.72-7.72 1.47 1.35L5.41 20z\"/>\n",
              "  </svg>\n",
              "      </button>\n",
              "      \n",
              "  <style>\n",
              "    .colab-df-container {\n",
              "      display:flex;\n",
              "      flex-wrap:wrap;\n",
              "      gap: 12px;\n",
              "    }\n",
              "\n",
              "    .colab-df-convert {\n",
              "      background-color: #E8F0FE;\n",
              "      border: none;\n",
              "      border-radius: 50%;\n",
              "      cursor: pointer;\n",
              "      display: none;\n",
              "      fill: #1967D2;\n",
              "      height: 32px;\n",
              "      padding: 0 0 0 0;\n",
              "      width: 32px;\n",
              "    }\n",
              "\n",
              "    .colab-df-convert:hover {\n",
              "      background-color: #E2EBFA;\n",
              "      box-shadow: 0px 1px 2px rgba(60, 64, 67, 0.3), 0px 1px 3px 1px rgba(60, 64, 67, 0.15);\n",
              "      fill: #174EA6;\n",
              "    }\n",
              "\n",
              "    [theme=dark] .colab-df-convert {\n",
              "      background-color: #3B4455;\n",
              "      fill: #D2E3FC;\n",
              "    }\n",
              "\n",
              "    [theme=dark] .colab-df-convert:hover {\n",
              "      background-color: #434B5C;\n",
              "      box-shadow: 0px 1px 3px 1px rgba(0, 0, 0, 0.15);\n",
              "      filter: drop-shadow(0px 1px 2px rgba(0, 0, 0, 0.3));\n",
              "      fill: #FFFFFF;\n",
              "    }\n",
              "  </style>\n",
              "\n",
              "      <script>\n",
              "        const buttonEl =\n",
              "          document.querySelector('#df-7327a747-e3b1-45df-b5aa-73db395ef004 button.colab-df-convert');\n",
              "        buttonEl.style.display =\n",
              "          google.colab.kernel.accessAllowed ? 'block' : 'none';\n",
              "\n",
              "        async function convertToInteractive(key) {\n",
              "          const element = document.querySelector('#df-7327a747-e3b1-45df-b5aa-73db395ef004');\n",
              "          const dataTable =\n",
              "            await google.colab.kernel.invokeFunction('convertToInteractive',\n",
              "                                                     [key], {});\n",
              "          if (!dataTable) return;\n",
              "\n",
              "          const docLinkHtml = 'Like what you see? Visit the ' +\n",
              "            '<a target=\"_blank\" href=https://colab.research.google.com/notebooks/data_table.ipynb>data table notebook</a>'\n",
              "            + ' to learn more about interactive tables.';\n",
              "          element.innerHTML = '';\n",
              "          dataTable['output_type'] = 'display_data';\n",
              "          await google.colab.output.renderOutput(dataTable, element);\n",
              "          const docLink = document.createElement('div');\n",
              "          docLink.innerHTML = docLinkHtml;\n",
              "          element.appendChild(docLink);\n",
              "        }\n",
              "      </script>\n",
              "    </div>\n",
              "  </div>\n",
              "  "
            ]
          },
          "metadata": {},
          "execution_count": 46
        }
      ]
    },
    {
      "cell_type": "code",
      "source": [
        "params={\"C\":np.logspace(-7,7,7), \"penalty\":[\"l2\"], \"multi_class\":['auto','ovr']}\n",
        "lg = LogisticRegression(C=4.5, random_state = 42, multi_class = 'ovr', solver = 'lbfgs', max_iter = 1000)\n",
        "clf = GridSearchCV(lg, params, cv=3)\n",
        "clf.fit(df[:20000], Y[:20000])\n",
        "print(\"akurasi pelatihan：\", clf.score(df[:20000], Y[:20000]))\n",
        "print(\"akurasi tes：\",clf.score(df[20000:], Y[20000:]))"
      ],
      "metadata": {
        "id": "FJTwMzweooYi",
        "colab": {
          "base_uri": "https://localhost:8080/"
        },
        "outputId": "764e00cd-62c0-40bc-e141-863e43942cae"
      },
      "execution_count": null,
      "outputs": [
        {
          "output_type": "stream",
          "name": "stderr",
          "text": [
            "/usr/local/lib/python3.7/dist-packages/sklearn/model_selection/_split.py:680: UserWarning: The least populated class in y has only 1 members, which is less than n_splits=3.\n",
            "  UserWarning,\n",
            "/usr/local/lib/python3.7/dist-packages/sklearn/linear_model/_logistic.py:818: ConvergenceWarning: lbfgs failed to converge (status=1):\n",
            "STOP: TOTAL NO. of ITERATIONS REACHED LIMIT.\n",
            "\n",
            "Increase the number of iterations (max_iter) or scale the data as shown in:\n",
            "    https://scikit-learn.org/stable/modules/preprocessing.html\n",
            "Please also refer to the documentation for alternative solver options:\n",
            "    https://scikit-learn.org/stable/modules/linear_model.html#logistic-regression\n",
            "  extra_warning_msg=_LOGISTIC_SOLVER_CONVERGENCE_MSG,\n",
            "/usr/local/lib/python3.7/dist-packages/sklearn/linear_model/_logistic.py:818: ConvergenceWarning: lbfgs failed to converge (status=1):\n",
            "STOP: TOTAL NO. of ITERATIONS REACHED LIMIT.\n",
            "\n",
            "Increase the number of iterations (max_iter) or scale the data as shown in:\n",
            "    https://scikit-learn.org/stable/modules/preprocessing.html\n",
            "Please also refer to the documentation for alternative solver options:\n",
            "    https://scikit-learn.org/stable/modules/linear_model.html#logistic-regression\n",
            "  extra_warning_msg=_LOGISTIC_SOLVER_CONVERGENCE_MSG,\n",
            "/usr/local/lib/python3.7/dist-packages/sklearn/linear_model/_logistic.py:818: ConvergenceWarning: lbfgs failed to converge (status=1):\n",
            "STOP: TOTAL NO. of ITERATIONS REACHED LIMIT.\n",
            "\n",
            "Increase the number of iterations (max_iter) or scale the data as shown in:\n",
            "    https://scikit-learn.org/stable/modules/preprocessing.html\n",
            "Please also refer to the documentation for alternative solver options:\n",
            "    https://scikit-learn.org/stable/modules/linear_model.html#logistic-regression\n",
            "  extra_warning_msg=_LOGISTIC_SOLVER_CONVERGENCE_MSG,\n",
            "/usr/local/lib/python3.7/dist-packages/sklearn/linear_model/_logistic.py:818: ConvergenceWarning: lbfgs failed to converge (status=1):\n",
            "STOP: TOTAL NO. of ITERATIONS REACHED LIMIT.\n",
            "\n",
            "Increase the number of iterations (max_iter) or scale the data as shown in:\n",
            "    https://scikit-learn.org/stable/modules/preprocessing.html\n",
            "Please also refer to the documentation for alternative solver options:\n",
            "    https://scikit-learn.org/stable/modules/linear_model.html#logistic-regression\n",
            "  extra_warning_msg=_LOGISTIC_SOLVER_CONVERGENCE_MSG,\n"
          ]
        },
        {
          "output_type": "stream",
          "name": "stdout",
          "text": [
            "akurasi pelatihan： 0.99965\n",
            "akurasi tes： 0.975675\n"
          ]
        }
      ]
    }
  ]
}