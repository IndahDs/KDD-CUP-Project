{
  "nbformat": 4,
  "nbformat_minor": 0,
  "metadata": {
    "colab": {
      "name": "FFNN KDD CUP.ipynb",
      "provenance": [],
      "collapsed_sections": []
    },
    "kernelspec": {
      "name": "python3",
      "display_name": "Python 3"
    },
    "language_info": {
      "name": "python"
    },
    "accelerator": "GPU",
    "gpuClass": "standard"
  },
  "cells": [
    {
      "cell_type": "markdown",
      "source": [
        "# Predict With FFNN"
      ],
      "metadata": {
        "id": "XAE5U-gocrue"
      }
    },
    {
      "cell_type": "code",
      "execution_count": null,
      "metadata": {
        "id": "PrB0MYNwcpUa"
      },
      "outputs": [],
      "source": [
        "# Membuat folder .kaggle di dalam folder root\n",
        "!rm -rf ~/.kaggle && mkdir ~/.kaggle/\n",
        "\n",
        "# Menyalin berkas kaggle.json pada direktori aktif saat ini ke folder .kaggle\n",
        "!mv kaggle.json ~/.kaggle/kaggle.json\n",
        "!chmod 600 ~/.kaggle/kaggle.json"
      ]
    },
    {
      "cell_type": "code",
      "source": [
        "# Mengunduh dataset menggunakan Kaggle CLI\n",
        "!kaggle datasets download -d galaxyh/kdd-cup-1999-data"
      ],
      "metadata": {
        "id": "w-UkT5J1c6fS",
        "colab": {
          "base_uri": "https://localhost:8080/"
        },
        "outputId": "0ac6f50d-877e-419e-e86b-42024717111f"
      },
      "execution_count": null,
      "outputs": [
        {
          "output_type": "stream",
          "name": "stdout",
          "text": [
            "Downloading kdd-cup-1999-data.zip to /content\n",
            "100% 87.8M/87.8M [00:00<00:00, 117MB/s] \n",
            "100% 87.8M/87.8M [00:00<00:00, 102MB/s]\n"
          ]
        }
      ]
    },
    {
      "cell_type": "code",
      "source": [
        "!unzip \"/content/kdd-cup-1999-data.zip\""
      ],
      "metadata": {
        "colab": {
          "base_uri": "https://localhost:8080/"
        },
        "id": "jaPUSkptc9qS",
        "outputId": "30dfeced-2048-4a3c-e983-2940f1b2f281"
      },
      "execution_count": null,
      "outputs": [
        {
          "output_type": "stream",
          "name": "stdout",
          "text": [
            "Archive:  /content/kdd-cup-1999-data.zip\n",
            "  inflating: corrected.gz            \n",
            "  inflating: corrected/corrected     \n",
            "  inflating: kddcup.data.corrected   \n",
            "  inflating: kddcup.data.gz          \n",
            "  inflating: kddcup.data/kddcup.data  \n",
            "  inflating: kddcup.data_10_percent.gz  \n",
            "  inflating: kddcup.data_10_percent/kddcup.data_10_percent  \n",
            "  inflating: kddcup.data_10_percent_corrected  \n",
            "  inflating: kddcup.names            \n",
            "  inflating: kddcup.newtestdata_10_percent_unlabeled.gz  \n",
            "  inflating: kddcup.newtestdata_10_percent_unlabeled/kddcup.newtestdata_10_percent_unlabeled  \n",
            "  inflating: kddcup.testdata.unlabeled.gz  \n",
            "  inflating: kddcup.testdata.unlabeled/kddcup.testdata.unlabeled  \n",
            "  inflating: kddcup.testdata.unlabeled_10_percent.gz  \n",
            "  inflating: kddcup.testdata.unlabeled_10_percent/kddcup.testdata.unlabeled_10_percent  \n",
            "  inflating: training_attack_types   \n",
            "  inflating: typo-correction.txt     \n"
          ]
        }
      ]
    },
    {
      "cell_type": "markdown",
      "source": [
        "# Import Library Yang Dibutuhkan"
      ],
      "metadata": {
        "id": "deI3WS_odOp3"
      }
    },
    {
      "cell_type": "code",
      "source": [
        "import os\n",
        "import shutil\n",
        "import requests\n",
        "import tensorflow as tf\n",
        "import numpy as np\n",
        "import pandas as pd\n",
        "import matplotlib as plt\n",
        "from datetime import datetime"
      ],
      "metadata": {
        "id": "RBPNRpKWdNi8"
      },
      "execution_count": null,
      "outputs": []
    },
    {
      "cell_type": "code",
      "source": [
        "# features dict and list\n",
        "# we use kdd.cup names \n",
        "\n",
        "content = open('/content/kddcup.names', 'r').readlines()\n",
        "content"
      ],
      "metadata": {
        "colab": {
          "base_uri": "https://localhost:8080/"
        },
        "id": "LzPK1FBCd3bE",
        "outputId": "35ecaeef-86b5-4f60-dcc6-640d7bd0b9f0"
      },
      "execution_count": null,
      "outputs": [
        {
          "output_type": "execute_result",
          "data": {
            "text/plain": [
              "['back,buffer_overflow,ftp_write,guess_passwd,imap,ipsweep,land,loadmodule,multihop,neptune,nmap,normal,perl,phf,pod,portsweep,rootkit,satan,smurf,spy,teardrop,warezclient,warezmaster.\\n',\n",
              " 'duration: continuous.\\n',\n",
              " 'protocol_type: symbolic.\\n',\n",
              " 'service: symbolic.\\n',\n",
              " 'flag: symbolic.\\n',\n",
              " 'src_bytes: continuous.\\n',\n",
              " 'dst_bytes: continuous.\\n',\n",
              " 'land: symbolic.\\n',\n",
              " 'wrong_fragment: continuous.\\n',\n",
              " 'urgent: continuous.\\n',\n",
              " 'hot: continuous.\\n',\n",
              " 'num_failed_logins: continuous.\\n',\n",
              " 'logged_in: symbolic.\\n',\n",
              " 'num_compromised: continuous.\\n',\n",
              " 'root_shell: continuous.\\n',\n",
              " 'su_attempted: continuous.\\n',\n",
              " 'num_root: continuous.\\n',\n",
              " 'num_file_creations: continuous.\\n',\n",
              " 'num_shells: continuous.\\n',\n",
              " 'num_access_files: continuous.\\n',\n",
              " 'num_outbound_cmds: continuous.\\n',\n",
              " 'is_host_login: symbolic.\\n',\n",
              " 'is_guest_login: symbolic.\\n',\n",
              " 'count: continuous.\\n',\n",
              " 'srv_count: continuous.\\n',\n",
              " 'serror_rate: continuous.\\n',\n",
              " 'srv_serror_rate: continuous.\\n',\n",
              " 'rerror_rate: continuous.\\n',\n",
              " 'srv_rerror_rate: continuous.\\n',\n",
              " 'same_srv_rate: continuous.\\n',\n",
              " 'diff_srv_rate: continuous.\\n',\n",
              " 'srv_diff_host_rate: continuous.\\n',\n",
              " 'dst_host_count: continuous.\\n',\n",
              " 'dst_host_srv_count: continuous.\\n',\n",
              " 'dst_host_same_srv_rate: continuous.\\n',\n",
              " 'dst_host_diff_srv_rate: continuous.\\n',\n",
              " 'dst_host_same_src_port_rate: continuous.\\n',\n",
              " 'dst_host_srv_diff_host_rate: continuous.\\n',\n",
              " 'dst_host_serror_rate: continuous.\\n',\n",
              " 'dst_host_srv_serror_rate: continuous.\\n',\n",
              " 'dst_host_rerror_rate: continuous.\\n',\n",
              " 'dst_host_srv_rerror_rate: continuous.\\n']"
            ]
          },
          "metadata": {},
          "execution_count": 5
        }
      ]
    },
    {
      "cell_type": "code",
      "source": [
        "buf, *features = content\n",
        "attack_types = buf.split(',')\n",
        "attack_types[-1] = attack_types[-1][:-1]\n",
        "features_types_dict = {f.split(':')[0]: f.split(':')[1][1:-2] for f in features}\n",
        "features = list(features_types_dict.keys())\n",
        "features_types_dict"
      ],
      "metadata": {
        "colab": {
          "base_uri": "https://localhost:8080/"
        },
        "id": "9It-IDQ0eip1",
        "outputId": "a99f5fc0-8fbe-43d6-fbb8-449a51cb1286"
      },
      "execution_count": null,
      "outputs": [
        {
          "output_type": "execute_result",
          "data": {
            "text/plain": [
              "{'count': 'continuous',\n",
              " 'diff_srv_rate': 'continuous',\n",
              " 'dst_bytes': 'continuous',\n",
              " 'dst_host_count': 'continuous',\n",
              " 'dst_host_diff_srv_rate': 'continuous',\n",
              " 'dst_host_rerror_rate': 'continuous',\n",
              " 'dst_host_same_src_port_rate': 'continuous',\n",
              " 'dst_host_same_srv_rate': 'continuous',\n",
              " 'dst_host_serror_rate': 'continuous',\n",
              " 'dst_host_srv_count': 'continuous',\n",
              " 'dst_host_srv_diff_host_rate': 'continuous',\n",
              " 'dst_host_srv_rerror_rate': 'continuous',\n",
              " 'dst_host_srv_serror_rate': 'continuous',\n",
              " 'duration': 'continuous',\n",
              " 'flag': 'symbolic',\n",
              " 'hot': 'continuous',\n",
              " 'is_guest_login': 'symbolic',\n",
              " 'is_host_login': 'symbolic',\n",
              " 'land': 'symbolic',\n",
              " 'logged_in': 'symbolic',\n",
              " 'num_access_files': 'continuous',\n",
              " 'num_compromised': 'continuous',\n",
              " 'num_failed_logins': 'continuous',\n",
              " 'num_file_creations': 'continuous',\n",
              " 'num_outbound_cmds': 'continuous',\n",
              " 'num_root': 'continuous',\n",
              " 'num_shells': 'continuous',\n",
              " 'protocol_type': 'symbolic',\n",
              " 'rerror_rate': 'continuous',\n",
              " 'root_shell': 'continuous',\n",
              " 'same_srv_rate': 'continuous',\n",
              " 'serror_rate': 'continuous',\n",
              " 'service': 'symbolic',\n",
              " 'src_bytes': 'continuous',\n",
              " 'srv_count': 'continuous',\n",
              " 'srv_diff_host_rate': 'continuous',\n",
              " 'srv_rerror_rate': 'continuous',\n",
              " 'srv_serror_rate': 'continuous',\n",
              " 'su_attempted': 'continuous',\n",
              " 'urgent': 'continuous',\n",
              " 'wrong_fragment': 'continuous'}"
            ]
          },
          "metadata": {},
          "execution_count": 6
        }
      ]
    },
    {
      "cell_type": "code",
      "source": [
        "# get attack types dict \n",
        "# we use data training_attack_types \n",
        "\n",
        "content = open ('/content/training_attack_types', 'r').readlines()\n",
        "content"
      ],
      "metadata": {
        "colab": {
          "base_uri": "https://localhost:8080/"
        },
        "id": "Z5Z2e-mSfgIQ",
        "outputId": "8319da45-648d-4b6c-bafd-9ea11863c450"
      },
      "execution_count": null,
      "outputs": [
        {
          "output_type": "execute_result",
          "data": {
            "text/plain": [
              "['back dos\\n',\n",
              " 'buffer_overflow u2r\\n',\n",
              " 'ftp_write r2l\\n',\n",
              " 'guess_passwd r2l\\n',\n",
              " 'imap r2l\\n',\n",
              " 'ipsweep probe\\n',\n",
              " 'land dos\\n',\n",
              " 'loadmodule u2r\\n',\n",
              " 'multihop r2l\\n',\n",
              " 'neptune dos\\n',\n",
              " 'nmap probe\\n',\n",
              " 'perl u2r\\n',\n",
              " 'phf r2l\\n',\n",
              " 'pod dos\\n',\n",
              " 'portsweep probe\\n',\n",
              " 'rootkit u2r\\n',\n",
              " 'satan probe\\n',\n",
              " 'smurf dos\\n',\n",
              " 'spy r2l\\n',\n",
              " 'teardrop dos\\n',\n",
              " 'warezclient r2l\\n',\n",
              " 'warezmaster r2l\\n',\n",
              " '\\n']"
            ]
          },
          "metadata": {},
          "execution_count": 7
        }
      ]
    },
    {
      "cell_type": "code",
      "source": [
        "buf = content[:-1]\n",
        "target_classes = {\n",
        "    'normal' : 0,\n",
        "    'u2r' : 1,\n",
        "    'r2l' : 2,\n",
        "    'probe' : 3,\n",
        "    'dos' : 4\n",
        "}\n",
        "attack_types_dict = {line.split()[0]: line.split()[1] for line in buf}\n",
        "attack_types_dict['normal'] = 'normal'\n",
        "attack_types_dict"
      ],
      "metadata": {
        "colab": {
          "base_uri": "https://localhost:8080/"
        },
        "id": "tXbszbXhgp7R",
        "outputId": "2eb1a3d4-3652-4522-eb04-281332c9854b"
      },
      "execution_count": null,
      "outputs": [
        {
          "output_type": "execute_result",
          "data": {
            "text/plain": [
              "{'back': 'dos',\n",
              " 'buffer_overflow': 'u2r',\n",
              " 'ftp_write': 'r2l',\n",
              " 'guess_passwd': 'r2l',\n",
              " 'imap': 'r2l',\n",
              " 'ipsweep': 'probe',\n",
              " 'land': 'dos',\n",
              " 'loadmodule': 'u2r',\n",
              " 'multihop': 'r2l',\n",
              " 'neptune': 'dos',\n",
              " 'nmap': 'probe',\n",
              " 'normal': 'normal',\n",
              " 'perl': 'u2r',\n",
              " 'phf': 'r2l',\n",
              " 'pod': 'dos',\n",
              " 'portsweep': 'probe',\n",
              " 'rootkit': 'u2r',\n",
              " 'satan': 'probe',\n",
              " 'smurf': 'dos',\n",
              " 'spy': 'r2l',\n",
              " 'teardrop': 'dos',\n",
              " 'warezclient': 'r2l',\n",
              " 'warezmaster': 'r2l'}"
            ]
          },
          "metadata": {},
          "execution_count": 8
        }
      ]
    },
    {
      "cell_type": "code",
      "source": [
        "# Load data\n",
        "# make sure we join 'label' in the df\n",
        "data_file = '/content/kddcup.data.gz'\n",
        "data = pd.read_csv(data_file,\n",
        "                   header = None,\n",
        "                   names = features + ['label'])\n",
        "data['label'] = [i[:-1] for i in data['label'].values]\n",
        "data"
      ],
      "metadata": {
        "id": "J9m47diojMM1",
        "colab": {
          "base_uri": "https://localhost:8080/",
          "height": 488
        },
        "outputId": "e3417f7d-c23c-4b3e-e108-6755e1e1ca66"
      },
      "execution_count": null,
      "outputs": [
        {
          "output_type": "execute_result",
          "data": {
            "text/plain": [
              "         duration protocol_type service flag  src_bytes  dst_bytes  land  \\\n",
              "0               0           tcp    http   SF        215      45076     0   \n",
              "1               0           tcp    http   SF        162       4528     0   \n",
              "2               0           tcp    http   SF        236       1228     0   \n",
              "3               0           tcp    http   SF        233       2032     0   \n",
              "4               0           tcp    http   SF        239        486     0   \n",
              "...           ...           ...     ...  ...        ...        ...   ...   \n",
              "4898426         0           tcp    http   SF        212       2288     0   \n",
              "4898427         0           tcp    http   SF        219        236     0   \n",
              "4898428         0           tcp    http   SF        218       3610     0   \n",
              "4898429         0           tcp    http   SF        219       1234     0   \n",
              "4898430         0           tcp    http   SF        219       1098     0   \n",
              "\n",
              "         wrong_fragment  urgent  hot  ...  dst_host_srv_count  \\\n",
              "0                     0       0    0  ...                   0   \n",
              "1                     0       0    0  ...                   1   \n",
              "2                     0       0    0  ...                   2   \n",
              "3                     0       0    0  ...                   3   \n",
              "4                     0       0    0  ...                   4   \n",
              "...                 ...     ...  ...  ...                 ...   \n",
              "4898426               0       0    0  ...                 255   \n",
              "4898427               0       0    0  ...                 255   \n",
              "4898428               0       0    0  ...                 255   \n",
              "4898429               0       0    0  ...                 255   \n",
              "4898430               0       0    0  ...                 255   \n",
              "\n",
              "         dst_host_same_srv_rate  dst_host_diff_srv_rate  \\\n",
              "0                           0.0                     0.0   \n",
              "1                           1.0                     0.0   \n",
              "2                           1.0                     0.0   \n",
              "3                           1.0                     0.0   \n",
              "4                           1.0                     0.0   \n",
              "...                         ...                     ...   \n",
              "4898426                     1.0                     0.0   \n",
              "4898427                     1.0                     0.0   \n",
              "4898428                     1.0                     0.0   \n",
              "4898429                     1.0                     0.0   \n",
              "4898430                     1.0                     0.0   \n",
              "\n",
              "         dst_host_same_src_port_rate  dst_host_srv_diff_host_rate  \\\n",
              "0                               0.00                         0.00   \n",
              "1                               1.00                         0.00   \n",
              "2                               0.50                         0.00   \n",
              "3                               0.33                         0.00   \n",
              "4                               0.25                         0.00   \n",
              "...                              ...                          ...   \n",
              "4898426                         0.33                         0.05   \n",
              "4898427                         0.25                         0.05   \n",
              "4898428                         0.20                         0.05   \n",
              "4898429                         0.17                         0.05   \n",
              "4898430                         0.14                         0.05   \n",
              "\n",
              "         dst_host_serror_rate  dst_host_srv_serror_rate  dst_host_rerror_rate  \\\n",
              "0                         0.0                      0.00                   0.0   \n",
              "1                         0.0                      0.00                   0.0   \n",
              "2                         0.0                      0.00                   0.0   \n",
              "3                         0.0                      0.00                   0.0   \n",
              "4                         0.0                      0.00                   0.0   \n",
              "...                       ...                       ...                   ...   \n",
              "4898426                   0.0                      0.01                   0.0   \n",
              "4898427                   0.0                      0.01                   0.0   \n",
              "4898428                   0.0                      0.01                   0.0   \n",
              "4898429                   0.0                      0.01                   0.0   \n",
              "4898430                   0.0                      0.01                   0.0   \n",
              "\n",
              "         dst_host_srv_rerror_rate   label  \n",
              "0                             0.0  normal  \n",
              "1                             0.0  normal  \n",
              "2                             0.0  normal  \n",
              "3                             0.0  normal  \n",
              "4                             0.0  normal  \n",
              "...                           ...     ...  \n",
              "4898426                       0.0  normal  \n",
              "4898427                       0.0  normal  \n",
              "4898428                       0.0  normal  \n",
              "4898429                       0.0  normal  \n",
              "4898430                       0.0  normal  \n",
              "\n",
              "[4898431 rows x 42 columns]"
            ],
            "text/html": [
              "\n",
              "  <div id=\"df-9d43268a-aa65-4921-92a6-1c8de7100c20\">\n",
              "    <div class=\"colab-df-container\">\n",
              "      <div>\n",
              "<style scoped>\n",
              "    .dataframe tbody tr th:only-of-type {\n",
              "        vertical-align: middle;\n",
              "    }\n",
              "\n",
              "    .dataframe tbody tr th {\n",
              "        vertical-align: top;\n",
              "    }\n",
              "\n",
              "    .dataframe thead th {\n",
              "        text-align: right;\n",
              "    }\n",
              "</style>\n",
              "<table border=\"1\" class=\"dataframe\">\n",
              "  <thead>\n",
              "    <tr style=\"text-align: right;\">\n",
              "      <th></th>\n",
              "      <th>duration</th>\n",
              "      <th>protocol_type</th>\n",
              "      <th>service</th>\n",
              "      <th>flag</th>\n",
              "      <th>src_bytes</th>\n",
              "      <th>dst_bytes</th>\n",
              "      <th>land</th>\n",
              "      <th>wrong_fragment</th>\n",
              "      <th>urgent</th>\n",
              "      <th>hot</th>\n",
              "      <th>...</th>\n",
              "      <th>dst_host_srv_count</th>\n",
              "      <th>dst_host_same_srv_rate</th>\n",
              "      <th>dst_host_diff_srv_rate</th>\n",
              "      <th>dst_host_same_src_port_rate</th>\n",
              "      <th>dst_host_srv_diff_host_rate</th>\n",
              "      <th>dst_host_serror_rate</th>\n",
              "      <th>dst_host_srv_serror_rate</th>\n",
              "      <th>dst_host_rerror_rate</th>\n",
              "      <th>dst_host_srv_rerror_rate</th>\n",
              "      <th>label</th>\n",
              "    </tr>\n",
              "  </thead>\n",
              "  <tbody>\n",
              "    <tr>\n",
              "      <th>0</th>\n",
              "      <td>0</td>\n",
              "      <td>tcp</td>\n",
              "      <td>http</td>\n",
              "      <td>SF</td>\n",
              "      <td>215</td>\n",
              "      <td>45076</td>\n",
              "      <td>0</td>\n",
              "      <td>0</td>\n",
              "      <td>0</td>\n",
              "      <td>0</td>\n",
              "      <td>...</td>\n",
              "      <td>0</td>\n",
              "      <td>0.0</td>\n",
              "      <td>0.0</td>\n",
              "      <td>0.00</td>\n",
              "      <td>0.00</td>\n",
              "      <td>0.0</td>\n",
              "      <td>0.00</td>\n",
              "      <td>0.0</td>\n",
              "      <td>0.0</td>\n",
              "      <td>normal</td>\n",
              "    </tr>\n",
              "    <tr>\n",
              "      <th>1</th>\n",
              "      <td>0</td>\n",
              "      <td>tcp</td>\n",
              "      <td>http</td>\n",
              "      <td>SF</td>\n",
              "      <td>162</td>\n",
              "      <td>4528</td>\n",
              "      <td>0</td>\n",
              "      <td>0</td>\n",
              "      <td>0</td>\n",
              "      <td>0</td>\n",
              "      <td>...</td>\n",
              "      <td>1</td>\n",
              "      <td>1.0</td>\n",
              "      <td>0.0</td>\n",
              "      <td>1.00</td>\n",
              "      <td>0.00</td>\n",
              "      <td>0.0</td>\n",
              "      <td>0.00</td>\n",
              "      <td>0.0</td>\n",
              "      <td>0.0</td>\n",
              "      <td>normal</td>\n",
              "    </tr>\n",
              "    <tr>\n",
              "      <th>2</th>\n",
              "      <td>0</td>\n",
              "      <td>tcp</td>\n",
              "      <td>http</td>\n",
              "      <td>SF</td>\n",
              "      <td>236</td>\n",
              "      <td>1228</td>\n",
              "      <td>0</td>\n",
              "      <td>0</td>\n",
              "      <td>0</td>\n",
              "      <td>0</td>\n",
              "      <td>...</td>\n",
              "      <td>2</td>\n",
              "      <td>1.0</td>\n",
              "      <td>0.0</td>\n",
              "      <td>0.50</td>\n",
              "      <td>0.00</td>\n",
              "      <td>0.0</td>\n",
              "      <td>0.00</td>\n",
              "      <td>0.0</td>\n",
              "      <td>0.0</td>\n",
              "      <td>normal</td>\n",
              "    </tr>\n",
              "    <tr>\n",
              "      <th>3</th>\n",
              "      <td>0</td>\n",
              "      <td>tcp</td>\n",
              "      <td>http</td>\n",
              "      <td>SF</td>\n",
              "      <td>233</td>\n",
              "      <td>2032</td>\n",
              "      <td>0</td>\n",
              "      <td>0</td>\n",
              "      <td>0</td>\n",
              "      <td>0</td>\n",
              "      <td>...</td>\n",
              "      <td>3</td>\n",
              "      <td>1.0</td>\n",
              "      <td>0.0</td>\n",
              "      <td>0.33</td>\n",
              "      <td>0.00</td>\n",
              "      <td>0.0</td>\n",
              "      <td>0.00</td>\n",
              "      <td>0.0</td>\n",
              "      <td>0.0</td>\n",
              "      <td>normal</td>\n",
              "    </tr>\n",
              "    <tr>\n",
              "      <th>4</th>\n",
              "      <td>0</td>\n",
              "      <td>tcp</td>\n",
              "      <td>http</td>\n",
              "      <td>SF</td>\n",
              "      <td>239</td>\n",
              "      <td>486</td>\n",
              "      <td>0</td>\n",
              "      <td>0</td>\n",
              "      <td>0</td>\n",
              "      <td>0</td>\n",
              "      <td>...</td>\n",
              "      <td>4</td>\n",
              "      <td>1.0</td>\n",
              "      <td>0.0</td>\n",
              "      <td>0.25</td>\n",
              "      <td>0.00</td>\n",
              "      <td>0.0</td>\n",
              "      <td>0.00</td>\n",
              "      <td>0.0</td>\n",
              "      <td>0.0</td>\n",
              "      <td>normal</td>\n",
              "    </tr>\n",
              "    <tr>\n",
              "      <th>...</th>\n",
              "      <td>...</td>\n",
              "      <td>...</td>\n",
              "      <td>...</td>\n",
              "      <td>...</td>\n",
              "      <td>...</td>\n",
              "      <td>...</td>\n",
              "      <td>...</td>\n",
              "      <td>...</td>\n",
              "      <td>...</td>\n",
              "      <td>...</td>\n",
              "      <td>...</td>\n",
              "      <td>...</td>\n",
              "      <td>...</td>\n",
              "      <td>...</td>\n",
              "      <td>...</td>\n",
              "      <td>...</td>\n",
              "      <td>...</td>\n",
              "      <td>...</td>\n",
              "      <td>...</td>\n",
              "      <td>...</td>\n",
              "      <td>...</td>\n",
              "    </tr>\n",
              "    <tr>\n",
              "      <th>4898426</th>\n",
              "      <td>0</td>\n",
              "      <td>tcp</td>\n",
              "      <td>http</td>\n",
              "      <td>SF</td>\n",
              "      <td>212</td>\n",
              "      <td>2288</td>\n",
              "      <td>0</td>\n",
              "      <td>0</td>\n",
              "      <td>0</td>\n",
              "      <td>0</td>\n",
              "      <td>...</td>\n",
              "      <td>255</td>\n",
              "      <td>1.0</td>\n",
              "      <td>0.0</td>\n",
              "      <td>0.33</td>\n",
              "      <td>0.05</td>\n",
              "      <td>0.0</td>\n",
              "      <td>0.01</td>\n",
              "      <td>0.0</td>\n",
              "      <td>0.0</td>\n",
              "      <td>normal</td>\n",
              "    </tr>\n",
              "    <tr>\n",
              "      <th>4898427</th>\n",
              "      <td>0</td>\n",
              "      <td>tcp</td>\n",
              "      <td>http</td>\n",
              "      <td>SF</td>\n",
              "      <td>219</td>\n",
              "      <td>236</td>\n",
              "      <td>0</td>\n",
              "      <td>0</td>\n",
              "      <td>0</td>\n",
              "      <td>0</td>\n",
              "      <td>...</td>\n",
              "      <td>255</td>\n",
              "      <td>1.0</td>\n",
              "      <td>0.0</td>\n",
              "      <td>0.25</td>\n",
              "      <td>0.05</td>\n",
              "      <td>0.0</td>\n",
              "      <td>0.01</td>\n",
              "      <td>0.0</td>\n",
              "      <td>0.0</td>\n",
              "      <td>normal</td>\n",
              "    </tr>\n",
              "    <tr>\n",
              "      <th>4898428</th>\n",
              "      <td>0</td>\n",
              "      <td>tcp</td>\n",
              "      <td>http</td>\n",
              "      <td>SF</td>\n",
              "      <td>218</td>\n",
              "      <td>3610</td>\n",
              "      <td>0</td>\n",
              "      <td>0</td>\n",
              "      <td>0</td>\n",
              "      <td>0</td>\n",
              "      <td>...</td>\n",
              "      <td>255</td>\n",
              "      <td>1.0</td>\n",
              "      <td>0.0</td>\n",
              "      <td>0.20</td>\n",
              "      <td>0.05</td>\n",
              "      <td>0.0</td>\n",
              "      <td>0.01</td>\n",
              "      <td>0.0</td>\n",
              "      <td>0.0</td>\n",
              "      <td>normal</td>\n",
              "    </tr>\n",
              "    <tr>\n",
              "      <th>4898429</th>\n",
              "      <td>0</td>\n",
              "      <td>tcp</td>\n",
              "      <td>http</td>\n",
              "      <td>SF</td>\n",
              "      <td>219</td>\n",
              "      <td>1234</td>\n",
              "      <td>0</td>\n",
              "      <td>0</td>\n",
              "      <td>0</td>\n",
              "      <td>0</td>\n",
              "      <td>...</td>\n",
              "      <td>255</td>\n",
              "      <td>1.0</td>\n",
              "      <td>0.0</td>\n",
              "      <td>0.17</td>\n",
              "      <td>0.05</td>\n",
              "      <td>0.0</td>\n",
              "      <td>0.01</td>\n",
              "      <td>0.0</td>\n",
              "      <td>0.0</td>\n",
              "      <td>normal</td>\n",
              "    </tr>\n",
              "    <tr>\n",
              "      <th>4898430</th>\n",
              "      <td>0</td>\n",
              "      <td>tcp</td>\n",
              "      <td>http</td>\n",
              "      <td>SF</td>\n",
              "      <td>219</td>\n",
              "      <td>1098</td>\n",
              "      <td>0</td>\n",
              "      <td>0</td>\n",
              "      <td>0</td>\n",
              "      <td>0</td>\n",
              "      <td>...</td>\n",
              "      <td>255</td>\n",
              "      <td>1.0</td>\n",
              "      <td>0.0</td>\n",
              "      <td>0.14</td>\n",
              "      <td>0.05</td>\n",
              "      <td>0.0</td>\n",
              "      <td>0.01</td>\n",
              "      <td>0.0</td>\n",
              "      <td>0.0</td>\n",
              "      <td>normal</td>\n",
              "    </tr>\n",
              "  </tbody>\n",
              "</table>\n",
              "<p>4898431 rows × 42 columns</p>\n",
              "</div>\n",
              "      <button class=\"colab-df-convert\" onclick=\"convertToInteractive('df-9d43268a-aa65-4921-92a6-1c8de7100c20')\"\n",
              "              title=\"Convert this dataframe to an interactive table.\"\n",
              "              style=\"display:none;\">\n",
              "        \n",
              "  <svg xmlns=\"http://www.w3.org/2000/svg\" height=\"24px\"viewBox=\"0 0 24 24\"\n",
              "       width=\"24px\">\n",
              "    <path d=\"M0 0h24v24H0V0z\" fill=\"none\"/>\n",
              "    <path d=\"M18.56 5.44l.94 2.06.94-2.06 2.06-.94-2.06-.94-.94-2.06-.94 2.06-2.06.94zm-11 1L8.5 8.5l.94-2.06 2.06-.94-2.06-.94L8.5 2.5l-.94 2.06-2.06.94zm10 10l.94 2.06.94-2.06 2.06-.94-2.06-.94-.94-2.06-.94 2.06-2.06.94z\"/><path d=\"M17.41 7.96l-1.37-1.37c-.4-.4-.92-.59-1.43-.59-.52 0-1.04.2-1.43.59L10.3 9.45l-7.72 7.72c-.78.78-.78 2.05 0 2.83L4 21.41c.39.39.9.59 1.41.59.51 0 1.02-.2 1.41-.59l7.78-7.78 2.81-2.81c.8-.78.8-2.07 0-2.86zM5.41 20L4 18.59l7.72-7.72 1.47 1.35L5.41 20z\"/>\n",
              "  </svg>\n",
              "      </button>\n",
              "      \n",
              "  <style>\n",
              "    .colab-df-container {\n",
              "      display:flex;\n",
              "      flex-wrap:wrap;\n",
              "      gap: 12px;\n",
              "    }\n",
              "\n",
              "    .colab-df-convert {\n",
              "      background-color: #E8F0FE;\n",
              "      border: none;\n",
              "      border-radius: 50%;\n",
              "      cursor: pointer;\n",
              "      display: none;\n",
              "      fill: #1967D2;\n",
              "      height: 32px;\n",
              "      padding: 0 0 0 0;\n",
              "      width: 32px;\n",
              "    }\n",
              "\n",
              "    .colab-df-convert:hover {\n",
              "      background-color: #E2EBFA;\n",
              "      box-shadow: 0px 1px 2px rgba(60, 64, 67, 0.3), 0px 1px 3px 1px rgba(60, 64, 67, 0.15);\n",
              "      fill: #174EA6;\n",
              "    }\n",
              "\n",
              "    [theme=dark] .colab-df-convert {\n",
              "      background-color: #3B4455;\n",
              "      fill: #D2E3FC;\n",
              "    }\n",
              "\n",
              "    [theme=dark] .colab-df-convert:hover {\n",
              "      background-color: #434B5C;\n",
              "      box-shadow: 0px 1px 3px 1px rgba(0, 0, 0, 0.15);\n",
              "      filter: drop-shadow(0px 1px 2px rgba(0, 0, 0, 0.3));\n",
              "      fill: #FFFFFF;\n",
              "    }\n",
              "  </style>\n",
              "\n",
              "      <script>\n",
              "        const buttonEl =\n",
              "          document.querySelector('#df-9d43268a-aa65-4921-92a6-1c8de7100c20 button.colab-df-convert');\n",
              "        buttonEl.style.display =\n",
              "          google.colab.kernel.accessAllowed ? 'block' : 'none';\n",
              "\n",
              "        async function convertToInteractive(key) {\n",
              "          const element = document.querySelector('#df-9d43268a-aa65-4921-92a6-1c8de7100c20');\n",
              "          const dataTable =\n",
              "            await google.colab.kernel.invokeFunction('convertToInteractive',\n",
              "                                                     [key], {});\n",
              "          if (!dataTable) return;\n",
              "\n",
              "          const docLinkHtml = 'Like what you see? Visit the ' +\n",
              "            '<a target=\"_blank\" href=https://colab.research.google.com/notebooks/data_table.ipynb>data table notebook</a>'\n",
              "            + ' to learn more about interactive tables.';\n",
              "          element.innerHTML = '';\n",
              "          dataTable['output_type'] = 'display_data';\n",
              "          await google.colab.output.renderOutput(dataTable, element);\n",
              "          const docLink = document.createElement('div');\n",
              "          docLink.innerHTML = docLinkHtml;\n",
              "          element.appendChild(docLink);\n",
              "        }\n",
              "      </script>\n",
              "    </div>\n",
              "  </div>\n",
              "  "
            ]
          },
          "metadata": {},
          "execution_count": 9
        }
      ]
    },
    {
      "cell_type": "markdown",
      "source": [
        "# Unnormalized Features"
      ],
      "metadata": {
        "id": "xO1-PB7QzO-v"
      }
    },
    {
      "cell_type": "code",
      "source": [
        "# numerical features\n",
        "num_attrs = []\n",
        "for i in [0, 4, 5, 7, 8, 9, 12, 13, 14, 15, 16, 17, 18, 22, 31,32]:\n",
        "  num_attrs.append(features[i])\n",
        "num_attrs"
      ],
      "metadata": {
        "colab": {
          "base_uri": "https://localhost:8080/"
        },
        "id": "HF0OhXnozOg6",
        "outputId": "253e65ae-16bb-4561-bb54-2bd90ff6e063"
      },
      "execution_count": null,
      "outputs": [
        {
          "output_type": "execute_result",
          "data": {
            "text/plain": [
              "['duration',\n",
              " 'src_bytes',\n",
              " 'dst_bytes',\n",
              " 'wrong_fragment',\n",
              " 'urgent',\n",
              " 'hot',\n",
              " 'num_compromised',\n",
              " 'root_shell',\n",
              " 'su_attempted',\n",
              " 'num_root',\n",
              " 'num_file_creations',\n",
              " 'num_shells',\n",
              " 'num_access_files',\n",
              " 'count',\n",
              " 'dst_host_count',\n",
              " 'dst_host_srv_count']"
            ]
          },
          "metadata": {},
          "execution_count": 18
        }
      ]
    },
    {
      "cell_type": "code",
      "source": [
        "# categorical features\n",
        "cat_attrs = []\n",
        "for i in [1, 2, 3]:\n",
        "  cat_attrs.append(features[i])\n",
        "cat_attrs"
      ],
      "metadata": {
        "colab": {
          "base_uri": "https://localhost:8080/"
        },
        "id": "ALRnDs6ZzyjQ",
        "outputId": "cebe985b-56e5-4348-90f5-460b7adf443a"
      },
      "execution_count": null,
      "outputs": [
        {
          "output_type": "execute_result",
          "data": {
            "text/plain": [
              "['protocol_type', 'service', 'flag']"
            ]
          },
          "metadata": {},
          "execution_count": 19
        }
      ]
    },
    {
      "cell_type": "markdown",
      "source": [
        "# Data Classification"
      ],
      "metadata": {
        "id": "S67nJhxd0Gxd"
      }
    },
    {
      "cell_type": "code",
      "source": [
        "label_counts_dict = data['label'].value_counts()\n",
        "print('+', '-' * 8, '+', '-' * 17, '+', '-' * 9, '+', sep='')\n",
        "print('|%-7s |%-16s |%-8s |' % ('Class', \"Attack type\", 'Count'))\n",
        "print('+', '-' * 8, '+', '-' * 17, '+', '-' * 9, '+', sep='')\n",
        "for (count, attack_type) in zip(label_counts_dict, label_counts_dict.keys()):\n",
        "    print('|%-7s |%-16s |%-8d |' % (attack_types_dict[attack_type], attack_type, count))\n",
        "    print('+', '-' * 8, '+', '-' * 17, '+', '-' * 9, '+', sep='')"
      ],
      "metadata": {
        "colab": {
          "base_uri": "https://localhost:8080/"
        },
        "id": "RtGEnY0z0PB4",
        "outputId": "feaca405-d1bc-453d-faa0-1797eca88854"
      },
      "execution_count": null,
      "outputs": [
        {
          "output_type": "stream",
          "name": "stdout",
          "text": [
            "+--------+-----------------+---------+\n",
            "|Class   |Attack type      |Count    |\n",
            "+--------+-----------------+---------+\n",
            "|dos     |smurf            |2807886  |\n",
            "+--------+-----------------+---------+\n",
            "|dos     |neptune          |1072017  |\n",
            "+--------+-----------------+---------+\n",
            "|normal  |normal           |972781   |\n",
            "+--------+-----------------+---------+\n",
            "|probe   |satan            |15892    |\n",
            "+--------+-----------------+---------+\n",
            "|probe   |ipsweep          |12481    |\n",
            "+--------+-----------------+---------+\n",
            "|probe   |portsweep        |10413    |\n",
            "+--------+-----------------+---------+\n",
            "|probe   |nmap             |2316     |\n",
            "+--------+-----------------+---------+\n",
            "|dos     |back             |2203     |\n",
            "+--------+-----------------+---------+\n",
            "|r2l     |warezclient      |1020     |\n",
            "+--------+-----------------+---------+\n",
            "|dos     |teardrop         |979      |\n",
            "+--------+-----------------+---------+\n",
            "|dos     |pod              |264      |\n",
            "+--------+-----------------+---------+\n",
            "|r2l     |guess_passwd     |53       |\n",
            "+--------+-----------------+---------+\n",
            "|u2r     |buffer_overflow  |30       |\n",
            "+--------+-----------------+---------+\n",
            "|dos     |land             |21       |\n",
            "+--------+-----------------+---------+\n",
            "|r2l     |warezmaster      |20       |\n",
            "+--------+-----------------+---------+\n",
            "|r2l     |imap             |12       |\n",
            "+--------+-----------------+---------+\n",
            "|u2r     |rootkit          |10       |\n",
            "+--------+-----------------+---------+\n",
            "|u2r     |loadmodule       |9        |\n",
            "+--------+-----------------+---------+\n",
            "|r2l     |ftp_write        |8        |\n",
            "+--------+-----------------+---------+\n",
            "|r2l     |multihop         |7        |\n",
            "+--------+-----------------+---------+\n",
            "|r2l     |phf              |4        |\n",
            "+--------+-----------------+---------+\n",
            "|u2r     |perl             |3        |\n",
            "+--------+-----------------+---------+\n",
            "|r2l     |spy              |2        |\n",
            "+--------+-----------------+---------+\n"
          ]
        }
      ]
    },
    {
      "cell_type": "code",
      "source": [
        "# Deteksi kelas kecil dan banyak \n",
        "num_class = ['smurf', 'neptune', 'normal']\n",
        "small_class = [cl for cl in attack_types if cl not in num_class]\n",
        "small_class, num_class"
      ],
      "metadata": {
        "id": "N1kF8Q5h1WBM",
        "colab": {
          "base_uri": "https://localhost:8080/"
        },
        "outputId": "32c67586-49f7-495c-dada-43b33d1668c3"
      },
      "execution_count": null,
      "outputs": [
        {
          "output_type": "execute_result",
          "data": {
            "text/plain": [
              "(['back',\n",
              "  'buffer_overflow',\n",
              "  'ftp_write',\n",
              "  'guess_passwd',\n",
              "  'imap',\n",
              "  'ipsweep',\n",
              "  'land',\n",
              "  'loadmodule',\n",
              "  'multihop',\n",
              "  'nmap',\n",
              "  'perl',\n",
              "  'phf',\n",
              "  'pod',\n",
              "  'portsweep',\n",
              "  'rootkit',\n",
              "  'satan',\n",
              "  'spy',\n",
              "  'teardrop',\n",
              "  'warezclient',\n",
              "  'warezmaster.'],\n",
              " ['smurf', 'neptune', 'normal'])"
            ]
          },
          "metadata": {},
          "execution_count": 21
        }
      ]
    },
    {
      "cell_type": "code",
      "source": [
        "# Training, Test, Validation Dataframes\n",
        "\n",
        "train_df, test_df, val_df = data[1:2], data[2:3], data[3:4]\n",
        "\n",
        "TRAIN_NUM = 15000\n",
        "TEST_NUM = 1500\n",
        "\n",
        "for cl in num_class:\n",
        "  train_df = train_df.merge(data[data['label']==cl][:TRAIN_NUM], how = 'outer')\n",
        "  test_df = test_df.merge(data[data['label']==cl][TRAIN_NUM:TRAIN_NUM+TEST_NUM], how = 'outer')\n",
        "  val_df = val_df.merge(data[data['label']==cl][TRAIN_NUM+TEST_NUM:TRAIN_NUM+TEST_NUM+TEST_NUM], how = 'outer')\n",
        "\n",
        "for cl in small_class:\n",
        "  TRAIN_NUM = round(len(data[data['label']==cl]) * 0.8)\n",
        "  TEST_NUM = round(len(data[data['label']==cl]) * 0.1)\n",
        "  train_df = train_df.merge(data[data['label']==cl][:TRAIN_NUM], how = 'outer')\n",
        "  test_df = test_df.merge(data[data['label']==cl][TRAIN_NUM:TRAIN_NUM+TEST_NUM], how = 'outer')\n",
        "  val_df = val_df.merge(data[data['label']==cl][TRAIN_NUM+TEST_NUM:TRAIN_NUM+TEST_NUM+TEST_NUM], how = 'outer')\n",
        "\n",
        "print('train_df: ', len(train_df))\n",
        "print('test_df: ', len(test_df))\n",
        "print('val_df: ', len(val_df))"
      ],
      "metadata": {
        "colab": {
          "base_uri": "https://localhost:8080/"
        },
        "id": "8cHwdZ_OpTGw",
        "outputId": "46fa3a15-19c9-45cc-d2fa-0d3f2957ecc5"
      },
      "execution_count": null,
      "outputs": [
        {
          "output_type": "stream",
          "name": "stdout",
          "text": [
            "train_df:  81581\n",
            "test_df:  9072\n",
            "val_df:  9070\n"
          ]
        }
      ]
    },
    {
      "cell_type": "markdown",
      "source": [
        "# Random Forest"
      ],
      "metadata": {
        "id": "gKH5ovcwssUY"
      }
    },
    {
      "cell_type": "code",
      "source": [
        "from sklearn.preprocessing import LabelBinarizer, MinMaxScaler\n",
        "\n",
        "# Definisikan pipeline untuk Random Forest\n",
        "def pipeline(data):\n",
        "  df = data.copy()\n",
        "  cat_encoder = LabelBinarizer()\n",
        "  scaler = MinMaxScaler()\n",
        "  for attr in cat_attrs:\n",
        "    df[attr] = cat_encoder.fit_transform(df[attr].values.reshape(-1,1))\n",
        "  for attr in num_attrs:\n",
        "    df[attr] = scaler.fit_transform(df[attr].values.reshape(-1,1))\n",
        "  return df"
      ],
      "metadata": {
        "id": "EVGJIZ6msRh_"
      },
      "execution_count": null,
      "outputs": []
    },
    {
      "cell_type": "code",
      "source": [
        "# Fit Random Forest untuk melihat feature importance\n",
        "\n",
        "from sklearn.ensemble import RandomForestClassifier\n",
        "\n",
        "train_data = pipeline(train_df)\n",
        "rnd_clf = RandomForestClassifier(n_estimators=500, n_jobs=-1)\n",
        "rnd_clf.fit(train_data.drop('label', axis=1), train_data['label'])"
      ],
      "metadata": {
        "id": "KRHgUQN-uPEr",
        "colab": {
          "base_uri": "https://localhost:8080/"
        },
        "outputId": "5af56f13-450d-43e5-f362-d92dc190ab10"
      },
      "execution_count": null,
      "outputs": [
        {
          "output_type": "execute_result",
          "data": {
            "text/plain": [
              "RandomForestClassifier(n_estimators=500, n_jobs=-1)"
            ]
          },
          "metadata": {},
          "execution_count": 24
        }
      ]
    },
    {
      "cell_type": "code",
      "source": [
        "# Training Akurasi\n",
        "from sklearn.metrics import accuracy_score\n",
        "\n",
        "test_data = pipeline(test_df)\n",
        "target = test_data.pop('label')\n",
        "test_predict = rnd_clf.predict(test_data)\n",
        "accuracy_score(target, test_predict)"
      ],
      "metadata": {
        "colab": {
          "base_uri": "https://localhost:8080/"
        },
        "id": "kJJdY1_y2nTK",
        "outputId": "5fc059ff-89b1-4343-eaf7-27ae82020fc7"
      },
      "execution_count": null,
      "outputs": [
        {
          "output_type": "execute_result",
          "data": {
            "text/plain": [
              "0.9899691358024691"
            ]
          },
          "metadata": {},
          "execution_count": 26
        }
      ]
    },
    {
      "cell_type": "markdown",
      "source": [
        "# Determine Feature Importance"
      ],
      "metadata": {
        "id": "l_FBslR03N_i"
      }
    },
    {
      "cell_type": "code",
      "source": [
        "# Berdasarkan hasil RandomForest, akan ditentukan features importance nya\n",
        "\n",
        "print('+','-' * 25, '+' , '-' * 15, '+', sep='')\n",
        "print('|%-24s |%-s|' %('Feature', 'Importance(in %)'))\n",
        "print('+','-' * 25, '+' , '-' * 15, '+', sep='')\n",
        "for (feature, importance) in zip(features_types_dict, rnd_clf.feature_importances_):\n",
        "  print('|%-28s|%-16f|' % (feature, importance * 100))\n"
      ],
      "metadata": {
        "colab": {
          "base_uri": "https://localhost:8080/"
        },
        "id": "aFDI8GEL3SY7",
        "outputId": "76352891-6f09-4d70-e8f7-d6fbd7103620"
      },
      "execution_count": null,
      "outputs": [
        {
          "output_type": "stream",
          "name": "stdout",
          "text": [
            "+-------------------------+---------------+\n",
            "|Feature                  |Importance(in %)|\n",
            "+-------------------------+---------------+\n",
            "|duration                    |0.213345        |\n",
            "|protocol_type               |4.848592        |\n",
            "|service                     |0.000000        |\n",
            "|flag                        |0.005808        |\n",
            "|src_bytes                   |4.025283        |\n",
            "|dst_bytes                   |0.310420        |\n",
            "|land                        |0.009429        |\n",
            "|wrong_fragment              |0.712162        |\n",
            "|urgent                      |0.001199        |\n",
            "|hot                         |0.744133        |\n",
            "|num_failed_logins           |0.014534        |\n",
            "|logged_in                   |6.189414        |\n",
            "|num_compromised             |0.682319        |\n",
            "|root_shell                  |0.010021        |\n",
            "|su_attempted                |0.000435        |\n",
            "|num_root                    |0.006787        |\n",
            "|num_file_creations          |0.009137        |\n",
            "|num_shells                  |0.001886        |\n",
            "|num_access_files            |0.003077        |\n",
            "|num_outbound_cmds           |0.000000        |\n",
            "|is_host_login               |0.000000        |\n",
            "|is_guest_login              |0.093455        |\n",
            "|count                       |7.628321        |\n",
            "|srv_count                   |9.214103        |\n",
            "|serror_rate                 |5.805096        |\n",
            "|srv_serror_rate             |2.211417        |\n",
            "|rerror_rate                 |3.921589        |\n",
            "|srv_rerror_rate             |1.212932        |\n",
            "|same_srv_rate               |5.456251        |\n",
            "|diff_srv_rate               |3.696985        |\n",
            "|srv_diff_host_rate          |1.085007        |\n",
            "|dst_host_count              |3.996344        |\n",
            "|dst_host_srv_count          |3.599336        |\n",
            "|dst_host_same_srv_rate      |4.553624        |\n",
            "|dst_host_diff_srv_rate      |3.540186        |\n",
            "|dst_host_same_src_port_rate |5.374700        |\n",
            "|dst_host_srv_diff_host_rate |5.705496        |\n",
            "|dst_host_serror_rate        |6.097729        |\n",
            "|dst_host_srv_serror_rate    |2.918921        |\n",
            "|dst_host_rerror_rate        |3.868747        |\n",
            "|dst_host_srv_rerror_rate    |2.231778        |\n"
          ]
        }
      ]
    },
    {
      "cell_type": "code",
      "source": [
        "d = {i : imp for i, imp in enumerate(rnd_clf.feature_importances_)}\n",
        "for bias in [0.00, 0.01, 0.02, 0.03, 0.04, 0.05, 0.06]:\n",
        "  print('>', bias * 100, '%', len(list(filter(lambda x:d[x] > bias, d))))"
      ],
      "metadata": {
        "colab": {
          "base_uri": "https://localhost:8080/"
        },
        "id": "XI_y0BZ-5RXe",
        "outputId": "f97e2506-ad62-4def-acbd-84cf9617a147"
      },
      "execution_count": null,
      "outputs": [
        {
          "output_type": "stream",
          "name": "stdout",
          "text": [
            "> 0.0 % 39\n",
            "> 1.0 % 22\n",
            "> 2.0 % 20\n",
            "> 3.0 % 17\n",
            "> 4.0 % 11\n",
            "> 5.0 % 8\n",
            "> 6.0 % 4\n"
          ]
        }
      ]
    },
    {
      "cell_type": "code",
      "source": [
        "# Mendefuinisikan data pipeline untuk model neural network\n",
        "def df_to_dataset(input_df, main_df=data, bias = 0.05, shuffle=True, batch_size=32):\n",
        "\n",
        "    df = input_df.copy()\n",
        "    cat_encoder = LabelBinarizer()\n",
        "    scaler = MinMaxScaler()\n",
        "    for attr in cat_attrs:\n",
        "        cat_encoder.fit(main_df[attr].values.reshape(-1, 1))\n",
        "        df[attr] = cat_encoder.transform(df[attr].values.reshape(-1, 1))\n",
        "    for attr in num_attrs:\n",
        "        scaler.fit(main_df[attr].values.reshape(-1, 1))\n",
        "        df[attr] = scaler.fit_transform(df[attr].values.reshape(-1, 1))\n",
        "            \n",
        "    d = dict(zip(features, rnd_clf.feature_importances_))\n",
        "    df = df.drop(list(filter(lambda x: d[x] < bias, d)), axis=1)\n",
        "\n",
        "    df['label'] = df['label'].apply(lambda x: target_classes[attack_types_dict[x]])\n",
        "    df['label'], _ = df['label'].factorize()\n",
        "        \n",
        "    labels = df.pop('label')\n",
        "    dataset = tf.data.Dataset.from_tensor_slices((df.values, labels))\n",
        "    if shuffle:\n",
        "        dataset = dataset.shuffle(buffer_size=len(df))\n",
        "    dataset = dataset.batch(batch_size)\n",
        "    print(f'Features count: {len(df.columns)}')\n",
        "    print('Сlass distribution: ', dict(labels.value_counts()))\n",
        "    return dataset"
      ],
      "metadata": {
        "id": "1X3q0Ez16ADe"
      },
      "execution_count": null,
      "outputs": []
    },
    {
      "cell_type": "code",
      "source": [
        "# Train, Test, Val \n",
        "BATCH_SIZE = 32\n",
        "BIAS = 0.03\n",
        "\n",
        "train_dataset = df_to_dataset(train_df, bias=BIAS, batch_size=BATCH_SIZE)\n",
        "val_dataset = df_to_dataset(val_df, bias=BIAS, batch_size=BATCH_SIZE)\n",
        "test_dataset = df_to_dataset(test_df,bias=BIAS, batch_size=BATCH_SIZE)"
      ],
      "metadata": {
        "colab": {
          "base_uri": "https://localhost:8080/"
        },
        "id": "Rpfjv9Hq7P4A",
        "outputId": "27ca1023-a02f-4e8e-ac06-429e87e4ce9b"
      },
      "execution_count": null,
      "outputs": [
        {
          "output_type": "stream",
          "name": "stdout",
          "text": [
            "Features count: 17\n",
            "Сlass distribution:  {4: 32882, 1: 32773, 0: 15000, 3: 885, 2: 41}\n",
            "Features count: 17\n",
            "Сlass distribution:  {4: 4109, 1: 3346, 0: 1501, 3: 109, 2: 5}\n",
            "Features count: 17\n",
            "Сlass distribution:  {4: 4110, 1: 3346, 0: 1501, 3: 110, 2: 5}\n"
          ]
        }
      ]
    },
    {
      "cell_type": "markdown",
      "source": [
        "# Define Model"
      ],
      "metadata": {
        "id": "J5kl0lGZ7m6C"
      }
    },
    {
      "cell_type": "code",
      "source": [
        "def get_compiled_model():\n",
        "    model = tf.keras.Sequential([\n",
        "        tf.keras.layers.Dense(14, activation='relu'),\n",
        "        tf.keras.layers.Dropout(0.5),\n",
        "        tf.keras.layers.Dense(10, activation='relu'),\n",
        "        tf.keras.layers.Dropout(0.3),\n",
        "        tf.keras.layers.Dense(5, activation='softmax')\n",
        "    ])\n",
        "\n",
        "    model.compile(optimizer='adam',\n",
        "                loss='sparse_categorical_crossentropy',\n",
        "                metrics=['accuracy'])\n",
        "    return model"
      ],
      "metadata": {
        "id": "kYdR1e6y7bwX"
      },
      "execution_count": null,
      "outputs": []
    },
    {
      "cell_type": "code",
      "source": [
        "# Compile dan fit model\n",
        "model = get_compiled_model()\n",
        "epochs = 20\n",
        "history = model.fit(train_dataset, \n",
        "                    validation_data=val_dataset, \n",
        "                    use_multiprocessing=True, \n",
        "                    epochs=epochs,\n",
        "                   )"
      ],
      "metadata": {
        "colab": {
          "base_uri": "https://localhost:8080/"
        },
        "id": "yFbSuEeL7sxP",
        "outputId": "89df0fbf-9a16-40c2-9967-403f0408d685"
      },
      "execution_count": null,
      "outputs": [
        {
          "output_type": "stream",
          "name": "stdout",
          "text": [
            "Epoch 1/20\n",
            "2550/2550 [==============================] - 11s 3ms/step - loss: 0.8489 - accuracy: 0.7678 - val_loss: 0.1715 - val_accuracy: 0.9564\n",
            "Epoch 2/20\n",
            "2550/2550 [==============================] - 11s 4ms/step - loss: 0.3386 - accuracy: 0.8917 - val_loss: 0.1483 - val_accuracy: 0.9562\n",
            "Epoch 3/20\n",
            "2550/2550 [==============================] - 12s 5ms/step - loss: 0.2763 - accuracy: 0.9071 - val_loss: 0.1420 - val_accuracy: 0.9584\n",
            "Epoch 4/20\n",
            "2550/2550 [==============================] - 8s 3ms/step - loss: 0.2535 - accuracy: 0.9100 - val_loss: 0.1417 - val_accuracy: 0.9584\n",
            "Epoch 5/20\n",
            "2550/2550 [==============================] - 7s 3ms/step - loss: 0.2328 - accuracy: 0.9230 - val_loss: 0.1363 - val_accuracy: 0.9581\n",
            "Epoch 6/20\n",
            "2550/2550 [==============================] - 7s 3ms/step - loss: 0.2299 - accuracy: 0.9238 - val_loss: 0.1414 - val_accuracy: 0.9579\n",
            "Epoch 7/20\n",
            "2550/2550 [==============================] - 7s 3ms/step - loss: 0.2262 - accuracy: 0.9257 - val_loss: 0.1349 - val_accuracy: 0.9580\n",
            "Epoch 8/20\n",
            "2550/2550 [==============================] - 7s 3ms/step - loss: 0.2196 - accuracy: 0.9275 - val_loss: 0.1304 - val_accuracy: 0.9581\n",
            "Epoch 9/20\n",
            "2550/2550 [==============================] - 7s 3ms/step - loss: 0.2232 - accuracy: 0.9262 - val_loss: 0.1242 - val_accuracy: 0.9578\n",
            "Epoch 10/20\n",
            "2550/2550 [==============================] - 7s 3ms/step - loss: 0.2242 - accuracy: 0.9254 - val_loss: 0.1244 - val_accuracy: 0.9581\n",
            "Epoch 11/20\n",
            "2550/2550 [==============================] - 7s 3ms/step - loss: 0.2194 - accuracy: 0.9260 - val_loss: 0.1195 - val_accuracy: 0.9580\n",
            "Epoch 12/20\n",
            "2550/2550 [==============================] - 7s 3ms/step - loss: 0.2135 - accuracy: 0.9281 - val_loss: 0.1195 - val_accuracy: 0.9582\n",
            "Epoch 13/20\n",
            "2550/2550 [==============================] - 8s 3ms/step - loss: 0.2117 - accuracy: 0.9285 - val_loss: 0.1231 - val_accuracy: 0.9582\n",
            "Epoch 14/20\n",
            "2550/2550 [==============================] - 7s 3ms/step - loss: 0.2085 - accuracy: 0.9286 - val_loss: 0.1198 - val_accuracy: 0.9578\n",
            "Epoch 15/20\n",
            "2550/2550 [==============================] - 7s 3ms/step - loss: 0.2082 - accuracy: 0.9279 - val_loss: 0.1168 - val_accuracy: 0.9582\n",
            "Epoch 16/20\n",
            "2550/2550 [==============================] - 7s 3ms/step - loss: 0.2026 - accuracy: 0.9305 - val_loss: 0.1235 - val_accuracy: 0.9582\n",
            "Epoch 17/20\n",
            "2550/2550 [==============================] - 8s 3ms/step - loss: 0.2016 - accuracy: 0.9297 - val_loss: 0.1233 - val_accuracy: 0.9582\n",
            "Epoch 18/20\n",
            "2550/2550 [==============================] - 7s 3ms/step - loss: 0.2090 - accuracy: 0.9263 - val_loss: 0.1213 - val_accuracy: 0.9582\n",
            "Epoch 19/20\n",
            "2550/2550 [==============================] - 7s 3ms/step - loss: 0.2185 - accuracy: 0.9186 - val_loss: 0.1276 - val_accuracy: 0.9576\n",
            "Epoch 20/20\n",
            "2550/2550 [==============================] - 7s 3ms/step - loss: 0.2089 - accuracy: 0.9237 - val_loss: 0.1126 - val_accuracy: 0.9581\n"
          ]
        }
      ]
    },
    {
      "cell_type": "code",
      "source": [
        "# Cek Kurva Akurasi dan Loss \n",
        "import matplotlib.pyplot as plt\n",
        "acc = history.history['accuracy']\n",
        "val_acc = history.history['val_accuracy']\n",
        "\n",
        "loss = history.history['loss']\n",
        "val_loss = history.history['val_loss']\n",
        "\n",
        "epochs_range = range(epochs)\n",
        "\n",
        "plt.figure(figsize=(8, 8))\n",
        "plt.subplot(1, 2, 1)\n",
        "plt.plot(epochs_range, acc, label='Training Acc')\n",
        "plt.plot(epochs_range, val_acc, label='Validation Acc')\n",
        "plt.legend(loc='lower right')\n",
        "plt.title('Training and Validation Acc')\n",
        "\n",
        "plt.subplot(1, 2, 2)\n",
        "plt.plot(epochs_range, loss, label='Training Loss')\n",
        "plt.plot(epochs_range, val_loss, label='Validation Loss')\n",
        "plt.legend(loc='upper right')\n",
        "plt.title('Training and Validation Loss')\n",
        "plt.show()"
      ],
      "metadata": {
        "colab": {
          "base_uri": "https://localhost:8080/",
          "height": 499
        },
        "id": "rgAh6aMy7xDq",
        "outputId": "5cd01491-8c0c-4e75-a91d-3d9ac5689dad"
      },
      "execution_count": null,
      "outputs": [
        {
          "output_type": "display_data",
          "data": {
            "text/plain": [
              "<Figure size 576x576 with 2 Axes>"
            ],
            "image/png": "[encoded data removed]"
          },
          "metadata": {
            "needs_background": "light"
          }
        }
      ]
    },
    {
      "cell_type": "code",
      "source": [
        "# cek akurasi pada data tes \n",
        "test_loss, test_accuracy = model.evaluate(test_dataset)\n",
        "print('Acc on test dataset:', test_accuracy)"
      ],
      "metadata": {
        "colab": {
          "base_uri": "https://localhost:8080/"
        },
        "id": "dwAaleHx86tu",
        "outputId": "0d2f6cbb-0f0d-4a62-fb0f-6ded16564fcf"
      },
      "execution_count": null,
      "outputs": [
        {
          "output_type": "stream",
          "name": "stdout",
          "text": [
            "284/284 [==============================] - 1s 2ms/step - loss: 0.1024 - accuracy: 0.9586\n",
            "Acc on test dataset: 0.9585537910461426\n"
          ]
        }
      ]
    },
    {
      "cell_type": "code",
      "source": [
        "def labels_to_list(data):\n",
        "    df = data.copy()\n",
        "    df['label'] = df['label'].apply(lambda x: target_classes[attack_types_dict[x]])\n",
        "    df['label'], _ = df['label'].factorize()\n",
        "    return df['label'].values.tolist()"
      ],
      "metadata": {
        "id": "3D9ro6At81pv"
      },
      "execution_count": null,
      "outputs": []
    },
    {
      "cell_type": "code",
      "source": [
        "# Cek confusion matrix pada dataset tes and dapatkan classification report\n",
        "from sklearn.metrics import classification_report, confusion_matrix\n",
        "\n",
        "predict_labels = model.predict(df_to_dataset(test_df, bias=BIAS, shuffle=False, batch_size=BATCH_SIZE))\n",
        "predicted_labels = [np.argmax(predict) for predict in predict_labels]\n",
        "true_labels = labels_to_list(test_df)\n",
        "print('\\nConfusion matrix:\\n', confusion_matrix(true_labels, predicted_labels))\n",
        "print('\\nClassification report:\\n', classification_report(true_labels, predicted_labels))"
      ],
      "metadata": {
        "colab": {
          "base_uri": "https://localhost:8080/"
        },
        "id": "OcqO00SL9zgs",
        "outputId": "2665ae00-156f-4df3-98e8-ea4967b5a9f5"
      },
      "execution_count": null,
      "outputs": [
        {
          "output_type": "stream",
          "name": "stdout",
          "text": [
            "Features count: 17\n",
            "Сlass distribution:  {4: 4110, 1: 3346, 0: 1501, 3: 110, 2: 5}\n",
            "\n",
            "Confusion matrix:\n",
            " [[1492    0    0    0    9]\n",
            " [ 220 3095    0    0   31]\n",
            " [   5    0    0    0    0]\n",
            " [ 107    1    0    0    2]\n",
            " [   1    0    0    0 4109]]\n",
            "\n",
            "Classification report:\n",
            "               precision    recall  f1-score   support\n",
            "\n",
            "           0       0.82      0.99      0.90      1501\n",
            "           1       1.00      0.92      0.96      3346\n",
            "           2       0.00      0.00      0.00         5\n",
            "           3       0.00      0.00      0.00       110\n",
            "           4       0.99      1.00      0.99      4110\n",
            "\n",
            "    accuracy                           0.96      9072\n",
            "   macro avg       0.56      0.58      0.57      9072\n",
            "weighted avg       0.95      0.96      0.95      9072\n",
            "\n"
          ]
        },
        {
          "output_type": "stream",
          "name": "stderr",
          "text": [
            "/usr/local/lib/python3.7/dist-packages/sklearn/metrics/_classification.py:1318: UndefinedMetricWarning: Precision and F-score are ill-defined and being set to 0.0 in labels with no predicted samples. Use `zero_division` parameter to control this behavior.\n",
            "  _warn_prf(average, modifier, msg_start, len(result))\n",
            "/usr/local/lib/python3.7/dist-packages/sklearn/metrics/_classification.py:1318: UndefinedMetricWarning: Precision and F-score are ill-defined and being set to 0.0 in labels with no predicted samples. Use `zero_division` parameter to control this behavior.\n",
            "  _warn_prf(average, modifier, msg_start, len(result))\n",
            "/usr/local/lib/python3.7/dist-packages/sklearn/metrics/_classification.py:1318: UndefinedMetricWarning: Precision and F-score are ill-defined and being set to 0.0 in labels with no predicted samples. Use `zero_division` parameter to control this behavior.\n",
            "  _warn_prf(average, modifier, msg_start, len(result))\n"
          ]
        }
      ]
    },
    {
      "cell_type": "code",
      "source": [
        ""
      ],
      "metadata": {
        "id": "R1JTKZTJ-wel"
      },
      "execution_count": null,
      "outputs": []
    }
  ]
}